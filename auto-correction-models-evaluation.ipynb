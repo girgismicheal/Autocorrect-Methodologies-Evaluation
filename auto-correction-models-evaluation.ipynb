{
 "cells": [
  {
   "cell_type": "markdown",
   "id": "c79f19ef",
   "metadata": {
    "id": "S1LhNt09xnPw",
    "papermill": {
     "duration": 0.015885,
     "end_time": "2022-08-27T22:52:17.882680",
     "exception": false,
     "start_time": "2022-08-27T22:52:17.866795",
     "status": "completed"
    },
    "tags": []
   },
   "source": [
    "# Import Libraries"
   ]
  },
  {
   "cell_type": "code",
   "execution_count": 1,
   "id": "da4ba442",
   "metadata": {
    "execution": {
     "iopub.execute_input": "2022-08-27T22:52:17.908948Z",
     "iopub.status.busy": "2022-08-27T22:52:17.907928Z",
     "iopub.status.idle": "2022-08-27T22:53:02.552131Z",
     "shell.execute_reply": "2022-08-27T22:53:02.551056Z"
    },
    "executionInfo": {
     "elapsed": 14029,
     "status": "ok",
     "timestamp": 1661521030655,
     "user": {
      "displayName": "girgis micheal",
      "userId": "08835413358043215546"
     },
     "user_tz": -120
    },
    "id": "xKQu_1Qf9HFS",
    "papermill": {
     "duration": 44.660337,
     "end_time": "2022-08-27T22:53:02.554790",
     "exception": false,
     "start_time": "2022-08-27T22:52:17.894453",
     "status": "completed"
    },
    "tags": []
   },
   "outputs": [],
   "source": [
    "%%capture\n",
    "# Imports/pips/initializations go here\n",
    "import string\n",
    "import types\n",
    "import numpy as np\n",
    "import nltk\n",
    "import re\n",
    "import random\n",
    "import pandas as pd\n",
    "from gensim.parsing.porter import PorterStemmer\n",
    "from nltk.corpus import gutenberg, stopwords\n",
    "from nltk.probability import FreqDist\n",
    "from nltk.corpus import words\n",
    "import matplotlib.pyplot as plt\n",
    "import requests\n",
    "\n",
    "from gensim.models import Word2Vec\n",
    "from sklearn import tree\n",
    "from sklearn import preprocessing\n",
    "from sklearn import metrics\n",
    "from sklearn.model_selection import cross_validate\n",
    "from sklearn.model_selection import train_test_split\n",
    "from sklearn import svm\n",
    "from sklearn.naive_bayes import MultinomialNB\n",
    "from sklearn.feature_extraction.text import TfidfVectorizer, CountVectorizer\n",
    "from sklearn.neighbors import KNeighborsClassifier\n",
    "\n",
    "!python -m spacy download en_core_web_sm\n",
    "import en_core_web_sm\n",
    "\n",
    "nltk.download('stopwords')\n",
    "nltk.download('gutenberg')\n",
    "nltk.download('punkt')"
   ]
  },
  {
   "cell_type": "markdown",
   "id": "49ebbc16",
   "metadata": {
    "id": "-8MReq0P7bZJ",
    "papermill": {
     "duration": 0.01118,
     "end_time": "2022-08-27T22:53:02.577730",
     "exception": false,
     "start_time": "2022-08-27T22:53:02.566550",
     "status": "completed"
    },
    "tags": []
   },
   "source": [
    "# Load the Data Set"
   ]
  },
  {
   "cell_type": "code",
   "execution_count": 2,
   "id": "6aff211e",
   "metadata": {
    "execution": {
     "iopub.execute_input": "2022-08-27T22:53:02.605020Z",
     "iopub.status.busy": "2022-08-27T22:53:02.603954Z",
     "iopub.status.idle": "2022-08-27T22:53:02.844330Z",
     "shell.execute_reply": "2022-08-27T22:53:02.843510Z"
    },
    "executionInfo": {
     "elapsed": 3736,
     "status": "ok",
     "timestamp": 1661521034374,
     "user": {
      "displayName": "girgis micheal",
      "userId": "08835413358043215546"
     },
     "user_tz": -120
    },
    "id": "aUX7Na8zvD95",
    "papermill": {
     "duration": 0.256149,
     "end_time": "2022-08-27T22:53:02.846921",
     "exception": false,
     "start_time": "2022-08-27T22:53:02.590772",
     "status": "completed"
    },
    "tags": []
   },
   "outputs": [],
   "source": [
    "books=[]\n",
    "urls=[]\n",
    "urls.append(\"https://www.gutenberg.org/files/51660/51660-0.txt\")\n",
    "# urls.append(\"https://www.gutenberg.org/files/20023/20023-8.txt\")\n",
    "# urls.append(\"https://www.gutenberg.org/files/36641/36641-8.txt\")\n",
    "# urls.append(\"https://www.gutenberg.org/files/63444/63444-0.txt\")\n",
    "# urls.append(\"https://www.gutenberg.org/files/1265/1265.txt\")\n",
    "\n",
    "for url in urls:\n",
    "  books.append(requests.get(url).text)"
   ]
  },
  {
   "cell_type": "markdown",
   "id": "1f6f8ea1",
   "metadata": {
    "id": "bVdIUh5v-mlP",
    "papermill": {
     "duration": 0.011276,
     "end_time": "2022-08-27T22:53:02.869942",
     "exception": false,
     "start_time": "2022-08-27T22:53:02.858666",
     "status": "completed"
    },
    "tags": []
   },
   "source": [
    "**Dataset sample**"
   ]
  },
  {
   "cell_type": "code",
   "execution_count": 3,
   "id": "650e6c0c",
   "metadata": {
    "execution": {
     "iopub.execute_input": "2022-08-27T22:53:02.896629Z",
     "iopub.status.busy": "2022-08-27T22:53:02.895447Z",
     "iopub.status.idle": "2022-08-27T22:53:02.902712Z",
     "shell.execute_reply": "2022-08-27T22:53:02.901793Z"
    },
    "executionInfo": {
     "elapsed": 19,
     "status": "ok",
     "timestamp": 1661521034376,
     "user": {
      "displayName": "girgis micheal",
      "userId": "08835413358043215546"
     },
     "user_tz": -120
    },
    "id": "vyy5DMZv9N9T",
    "outputId": "42171753-c27b-4387-ec26-da7126428c86",
    "papermill": {
     "duration": 0.023152,
     "end_time": "2022-08-27T22:53:02.905225",
     "exception": false,
     "start_time": "2022-08-27T22:53:02.882073",
     "status": "completed"
    },
    "tags": []
   },
   "outputs": [
    {
     "data": {
      "text/plain": [
       "\"ï»¿Project Gutenberg's The Girls' Book of Famous Queens, by Lydia Hoyt Farmer\\r\\n\\r\\nThis eBook is for the use of anyone anywhere in the United States and most\\r\\nother parts of the world at no cost and with almost no restrictions\\r\\nwhatsoever.  You may copy it, give it away or re-use it under the terms of\""
      ]
     },
     "execution_count": 3,
     "metadata": {},
     "output_type": "execute_result"
    }
   ],
   "source": [
    "books[0][:300]"
   ]
  },
  {
   "cell_type": "markdown",
   "id": "d23d2aaa",
   "metadata": {
    "id": "zZYAHrtt-sFo",
    "papermill": {
     "duration": 0.011325,
     "end_time": "2022-08-27T22:53:02.928361",
     "exception": false,
     "start_time": "2022-08-27T22:53:02.917036",
     "status": "completed"
    },
    "tags": []
   },
   "source": [
    "> - **Seems like it's need some preprossing and cleaning**"
   ]
  },
  {
   "cell_type": "markdown",
   "id": "866ace1a",
   "metadata": {
    "id": "oi2I-zVXAzr_",
    "papermill": {
     "duration": 0.01125,
     "end_time": "2022-08-27T22:53:02.951277",
     "exception": false,
     "start_time": "2022-08-27T22:53:02.940027",
     "status": "completed"
    },
    "tags": []
   },
   "source": [
    "**Simple Cleaning Function**"
   ]
  },
  {
   "cell_type": "code",
   "execution_count": 4,
   "id": "5aec23c3",
   "metadata": {
    "execution": {
     "iopub.execute_input": "2022-08-27T22:53:02.976151Z",
     "iopub.status.busy": "2022-08-27T22:53:02.975780Z",
     "iopub.status.idle": "2022-08-27T22:53:03.260000Z",
     "shell.execute_reply": "2022-08-27T22:53:03.258783Z"
    },
    "executionInfo": {
     "elapsed": 581,
     "status": "ok",
     "timestamp": 1661521034949,
     "user": {
      "displayName": "girgis micheal",
      "userId": "08835413358043215546"
     },
     "user_tz": -120
    },
    "id": "ghQ_wnuAA0Ik",
    "papermill": {
     "duration": 0.300192,
     "end_time": "2022-08-27T22:53:03.263042",
     "exception": false,
     "start_time": "2022-08-27T22:53:02.962850",
     "status": "completed"
    },
    "tags": []
   },
   "outputs": [],
   "source": [
    "import string\n",
    "\n",
    "def prepare_data(text):\n",
    "  # to lower case\n",
    "  text = text.lower()\n",
    "  # Remove non-ascii characters\n",
    "  text = text.encode(\"ascii\", \"ignore\").decode()\n",
    "  # Remove \\n and \\r\n",
    "  text = re.sub(r'[\\r*\\n*]+', ' ', text)\n",
    "  # Remove websites and hashtags\n",
    "  text = re.sub(r'_|#|http\\S+|www\\S+', ' ', text)\n",
    "  # Substitute numbers by keyword num\n",
    "  text = re.sub(r'\\d+', 'num', text)\n",
    "  \n",
    "  # Apply tokenization\n",
    "  regex = r\"\\w+'?\\w+\\s\"\n",
    "  words = re.findall(regex,text)\n",
    "  words = [w[:-1] for w in words]\n",
    "  words = [w for w in words if len(w)>1 or w in [\"a\", \"i\"]]\n",
    "  unique = np.unique(words, return_counts=True)\n",
    "  [[w, c] for w, c in zip(*unique) if  len(w) == 2]\n",
    "  return words\n",
    "\n",
    "words = [prepare_data(book) for book in books]\n",
    "words = [y for x in words for y in x]\n",
    "\n",
    "\n",
    "words = set(words)"
   ]
  },
  {
   "cell_type": "markdown",
   "id": "3b927bca",
   "metadata": {
    "id": "TQhDn8py8P3d",
    "papermill": {
     "duration": 0.011224,
     "end_time": "2022-08-27T22:53:03.286021",
     "exception": false,
     "start_time": "2022-08-27T22:53:03.274797",
     "status": "completed"
    },
    "tags": []
   },
   "source": [
    "# **Generate Incorrect Words**"
   ]
  },
  {
   "cell_type": "code",
   "execution_count": 5,
   "id": "485a4e00",
   "metadata": {
    "execution": {
     "iopub.execute_input": "2022-08-27T22:53:03.311414Z",
     "iopub.status.busy": "2022-08-27T22:53:03.310473Z",
     "iopub.status.idle": "2022-08-27T22:53:03.320052Z",
     "shell.execute_reply": "2022-08-27T22:53:03.318936Z"
    },
    "executionInfo": {
     "elapsed": 28,
     "status": "ok",
     "timestamp": 1661521034950,
     "user": {
      "displayName": "girgis micheal",
      "userId": "08835413358043215546"
     },
     "user_tz": -120
    },
    "id": "eZGxUP_f8UDv",
    "papermill": {
     "duration": 0.02476,
     "end_time": "2022-08-27T22:53:03.322340",
     "exception": false,
     "start_time": "2022-08-27T22:53:03.297580",
     "status": "completed"
    },
    "tags": []
   },
   "outputs": [],
   "source": [
    "def apply_error(word, remove=0.3, add=0.3, swap_letter=True):\n",
    "  def swap(s, i, j):\n",
    "    return ''.join((s[:i], s[j], s[i+1:j], s[i], s[j+1:]))\n",
    "\n",
    "  if swap_letter:\n",
    "    i = random.randint(0,len(word)-1)\n",
    "    j = random.randint(0,len(word)-1)\n",
    "    word = swap(word, i, j)\n",
    "\n",
    "  letters_to_remove = int(remove*len(word))\n",
    "  letters_to_add = int(add*len(word))\n",
    "\n",
    "  for _ in range(letters_to_remove):\n",
    "    i = random.randint(1,len(word))\n",
    "    word = word[:i-1] + word[i:]\n",
    "\n",
    "  lower_upper_alphabet = string.ascii_letters\n",
    "  for _ in range(letters_to_add):\n",
    "    random_letter = random.choice(lower_upper_alphabet)\n",
    "    i = random.randint(1,len(word))\n",
    "    word = word[:i] + random_letter.lower() + word[i:]\n",
    "\n",
    "  return word"
   ]
  },
  {
   "cell_type": "code",
   "execution_count": 6,
   "id": "b6294aee",
   "metadata": {
    "execution": {
     "iopub.execute_input": "2022-08-27T22:53:03.347587Z",
     "iopub.status.busy": "2022-08-27T22:53:03.346816Z",
     "iopub.status.idle": "2022-08-27T22:53:03.353069Z",
     "shell.execute_reply": "2022-08-27T22:53:03.352336Z"
    },
    "executionInfo": {
     "elapsed": 28,
     "status": "ok",
     "timestamp": 1661521034951,
     "user": {
      "displayName": "girgis micheal",
      "userId": "08835413358043215546"
     },
     "user_tz": -120
    },
    "id": "BJP2f_uUBaFR",
    "outputId": "7e3c2814-2a74-4fe2-c27e-fb2147693d49",
    "papermill": {
     "duration": 0.021014,
     "end_time": "2022-08-27T22:53:03.355027",
     "exception": false,
     "start_time": "2022-08-27T22:53:03.334013",
     "status": "completed"
    },
    "tags": []
   },
   "outputs": [
    {
     "data": {
      "text/plain": [
       "'hyspita'"
      ]
     },
     "execution_count": 6,
     "metadata": {},
     "output_type": "execute_result"
    }
   ],
   "source": [
    "apply_error(\"hospital\", remove=0.3, add=0.2, swap_letter=False)"
   ]
  },
  {
   "cell_type": "code",
   "execution_count": 7,
   "id": "176e9b8a",
   "metadata": {
    "execution": {
     "iopub.execute_input": "2022-08-27T22:53:03.380643Z",
     "iopub.status.busy": "2022-08-27T22:53:03.380218Z",
     "iopub.status.idle": "2022-08-27T22:53:03.386110Z",
     "shell.execute_reply": "2022-08-27T22:53:03.385372Z"
    },
    "executionInfo": {
     "elapsed": 28,
     "status": "ok",
     "timestamp": 1661521034953,
     "user": {
      "displayName": "girgis micheal",
      "userId": "08835413358043215546"
     },
     "user_tz": -120
    },
    "id": "q8wJiE7h9x3q",
    "outputId": "414273b9-e06d-448a-ae92-c91ea6a661af",
    "papermill": {
     "duration": 0.021194,
     "end_time": "2022-08-27T22:53:03.388083",
     "exception": false,
     "start_time": "2022-08-27T22:53:03.366889",
     "status": "completed"
    },
    "tags": []
   },
   "outputs": [
    {
     "data": {
      "text/plain": [
       "'hospihital'"
      ]
     },
     "execution_count": 7,
     "metadata": {},
     "output_type": "execute_result"
    }
   ],
   "source": [
    "apply_error(\"hospital\", remove=0.1, add=0.1)"
   ]
  },
  {
   "cell_type": "markdown",
   "id": "eed2a69b",
   "metadata": {
    "id": "6Cr46sXixFrP",
    "papermill": {
     "duration": 0.011686,
     "end_time": "2022-08-27T22:53:03.411722",
     "exception": false,
     "start_time": "2022-08-27T22:53:03.400036",
     "status": "completed"
    },
    "tags": []
   },
   "source": [
    "**Due to the Ram consumtion i would chose the first 100 word only**"
   ]
  },
  {
   "cell_type": "code",
   "execution_count": 8,
   "id": "e27ee993",
   "metadata": {
    "execution": {
     "iopub.execute_input": "2022-08-27T22:53:03.437446Z",
     "iopub.status.busy": "2022-08-27T22:53:03.436751Z",
     "iopub.status.idle": "2022-08-27T22:53:03.719667Z",
     "shell.execute_reply": "2022-08-27T22:53:03.718554Z"
    },
    "executionInfo": {
     "elapsed": 28,
     "status": "ok",
     "timestamp": 1661521034954,
     "user": {
      "displayName": "girgis micheal",
      "userId": "08835413358043215546"
     },
     "user_tz": -120
    },
    "id": "thnO4hG-vz6e",
    "papermill": {
     "duration": 0.298738,
     "end_time": "2022-08-27T22:53:03.722381",
     "exception": false,
     "start_time": "2022-08-27T22:53:03.423643",
     "status": "completed"
    },
    "tags": []
   },
   "outputs": [],
   "source": [
    "correct_words = list(set(prepare_data(books[0])))[:200]"
   ]
  },
  {
   "cell_type": "markdown",
   "id": "2345d140",
   "metadata": {
    "id": "vB368KTG8dDK",
    "papermill": {
     "duration": 0.011706,
     "end_time": "2022-08-27T22:53:03.746254",
     "exception": false,
     "start_time": "2022-08-27T22:53:03.734548",
     "status": "completed"
    },
    "tags": []
   },
   "source": [
    "# Build the Evaluation Dataset"
   ]
  },
  {
   "cell_type": "code",
   "execution_count": 9,
   "id": "10bb598f",
   "metadata": {
    "execution": {
     "iopub.execute_input": "2022-08-27T22:53:03.772879Z",
     "iopub.status.busy": "2022-08-27T22:53:03.772471Z",
     "iopub.status.idle": "2022-08-27T22:53:03.779674Z",
     "shell.execute_reply": "2022-08-27T22:53:03.778480Z"
    },
    "executionInfo": {
     "elapsed": 29,
     "status": "ok",
     "timestamp": 1661521034955,
     "user": {
      "displayName": "girgis micheal",
      "userId": "08835413358043215546"
     },
     "user_tz": -120
    },
    "id": "ygiVHucVvD98",
    "papermill": {
     "duration": 0.023387,
     "end_time": "2022-08-27T22:53:03.781906",
     "exception": false,
     "start_time": "2022-08-27T22:53:03.758519",
     "status": "completed"
    },
    "tags": []
   },
   "outputs": [],
   "source": [
    "wrong_1 =[]\n",
    "\n",
    "for correct in correct_words:\n",
    "  # wrong_1.append(apply_error(correct, remove=0.1, add=0.1,swap_letter=True)) # Baseline\n",
    "  wrong_1.append(apply_error(correct, remove=0.05, add=0.05)) # Don't swap\n",
    "\n",
    "  # wrong_1.append(apply_error(correct, remove=0.2, add=0.1, swap_letter=True)) # Remove more 20%\n",
    "  # wrong_1.append(apply_error(correct, remove=0.1, add=0.2, swap_letter=True)) # Add more 20%\n",
    "  \n",
    "  # wrong_1.append(apply_error(correct, remove=0.3, add=0.1,swap_letter=True)) # Remove more 30%\n",
    "  # wrong_1.append(apply_error(correct, remove=0.1, add=0.3,swap_letter=True)) # Add more 30%\n",
    "\n",
    "  # wrong_1.append(apply_error(correct, remove=0.5, add=0.1,swap_letter=True)) # Remove more 20%\n",
    "  # wrong_1.append(apply_error(correct, remove=0.1, add=0.5,swap_letter=True)) # Add more 20%\n",
    "\n",
    "  # wrong_1.append(apply_error(correct, remove=0.2, add=0.2,swap_letter=True)) # Romove and Add by 20%\n",
    "  # wrong_1.append(apply_error(correct, remove=0.3, add=0.3,swap_letter=True)) # Romove and Add by 30%"
   ]
  },
  {
   "cell_type": "code",
   "execution_count": 10,
   "id": "fd458c97",
   "metadata": {
    "execution": {
     "iopub.execute_input": "2022-08-27T22:53:03.808030Z",
     "iopub.status.busy": "2022-08-27T22:53:03.807667Z",
     "iopub.status.idle": "2022-08-27T22:53:03.831074Z",
     "shell.execute_reply": "2022-08-27T22:53:03.830065Z"
    },
    "executionInfo": {
     "elapsed": 28,
     "status": "ok",
     "timestamp": 1661521034955,
     "user": {
      "displayName": "girgis micheal",
      "userId": "08835413358043215546"
     },
     "user_tz": -120
    },
    "id": "JqlxlNwMvD99",
    "outputId": "3d7f3648-0eb7-49e9-a8e1-6a360a6cb839",
    "papermill": {
     "duration": 0.039081,
     "end_time": "2022-08-27T22:53:03.833372",
     "exception": false,
     "start_time": "2022-08-27T22:53:03.794291",
     "status": "completed"
    },
    "tags": []
   },
   "outputs": [
    {
     "data": {
      "text/html": [
       "<div>\n",
       "<style scoped>\n",
       "    .dataframe tbody tr th:only-of-type {\n",
       "        vertical-align: middle;\n",
       "    }\n",
       "\n",
       "    .dataframe tbody tr th {\n",
       "        vertical-align: top;\n",
       "    }\n",
       "\n",
       "    .dataframe thead th {\n",
       "        text-align: right;\n",
       "    }\n",
       "</style>\n",
       "<table border=\"1\" class=\"dataframe\">\n",
       "  <thead>\n",
       "    <tr style=\"text-align: right;\">\n",
       "      <th></th>\n",
       "      <th>correct</th>\n",
       "      <th>wrong_1</th>\n",
       "    </tr>\n",
       "  </thead>\n",
       "  <tbody>\n",
       "    <tr>\n",
       "      <th>0</th>\n",
       "      <td>perpetrated</td>\n",
       "      <td>perpetrated</td>\n",
       "    </tr>\n",
       "    <tr>\n",
       "      <th>1</th>\n",
       "      <td>hazard</td>\n",
       "      <td>hazaard</td>\n",
       "    </tr>\n",
       "    <tr>\n",
       "      <th>2</th>\n",
       "      <td>abandon</td>\n",
       "      <td>abandaondon</td>\n",
       "    </tr>\n",
       "    <tr>\n",
       "      <th>3</th>\n",
       "      <td>driven</td>\n",
       "      <td>drirviven</td>\n",
       "    </tr>\n",
       "    <tr>\n",
       "      <th>4</th>\n",
       "      <td>allow</td>\n",
       "      <td>allllow</td>\n",
       "    </tr>\n",
       "    <tr>\n",
       "      <th>...</th>\n",
       "      <td>...</td>\n",
       "      <td>...</td>\n",
       "    </tr>\n",
       "    <tr>\n",
       "      <th>195</th>\n",
       "      <td>shamed</td>\n",
       "      <td>smahed</td>\n",
       "    </tr>\n",
       "    <tr>\n",
       "      <th>196</th>\n",
       "      <td>singular</td>\n",
       "      <td>singulnagular</td>\n",
       "    </tr>\n",
       "    <tr>\n",
       "      <th>197</th>\n",
       "      <td>cabinet</td>\n",
       "      <td>cabinaebinet</td>\n",
       "    </tr>\n",
       "    <tr>\n",
       "      <th>198</th>\n",
       "      <td>righteous</td>\n",
       "      <td>rightheteous</td>\n",
       "    </tr>\n",
       "    <tr>\n",
       "      <th>199</th>\n",
       "      <td>requires</td>\n",
       "      <td>reruiqes</td>\n",
       "    </tr>\n",
       "  </tbody>\n",
       "</table>\n",
       "<p>200 rows × 2 columns</p>\n",
       "</div>"
      ],
      "text/plain": [
       "         correct        wrong_1\n",
       "0    perpetrated    perpetrated\n",
       "1         hazard        hazaard\n",
       "2        abandon    abandaondon\n",
       "3         driven      drirviven\n",
       "4          allow        allllow\n",
       "..           ...            ...\n",
       "195       shamed         smahed\n",
       "196     singular  singulnagular\n",
       "197      cabinet   cabinaebinet\n",
       "198    righteous   rightheteous\n",
       "199     requires       reruiqes\n",
       "\n",
       "[200 rows x 2 columns]"
      ]
     },
     "execution_count": 10,
     "metadata": {},
     "output_type": "execute_result"
    }
   ],
   "source": [
    "df = pd.DataFrame({\"correct\":correct_words,\"wrong_1\":wrong_1})\n",
    "df"
   ]
  },
  {
   "cell_type": "markdown",
   "id": "eba90fe9",
   "metadata": {
    "id": "x2nZ0U31lQt1",
    "papermill": {
     "duration": 0.01181,
     "end_time": "2022-08-27T22:53:03.857448",
     "exception": false,
     "start_time": "2022-08-27T22:53:03.845638",
     "status": "completed"
    },
    "tags": []
   },
   "source": [
    "# Define the AutoCorrection function"
   ]
  },
  {
   "cell_type": "code",
   "execution_count": 11,
   "id": "effdfdc4",
   "metadata": {
    "execution": {
     "iopub.execute_input": "2022-08-27T22:53:03.884684Z",
     "iopub.status.busy": "2022-08-27T22:53:03.883499Z",
     "iopub.status.idle": "2022-08-27T22:53:03.892821Z",
     "shell.execute_reply": "2022-08-27T22:53:03.891888Z"
    },
    "executionInfo": {
     "elapsed": 16233,
     "status": "ok",
     "timestamp": 1661521016645,
     "user": {
      "displayName": "girgis micheal",
      "userId": "08835413358043215546"
     },
     "user_tz": -120
    },
    "id": "39GTKaNKlZGV",
    "papermill": {
     "duration": 0.025307,
     "end_time": "2022-08-27T22:53:03.895265",
     "exception": false,
     "start_time": "2022-08-27T22:53:03.869958",
     "status": "completed"
    },
    "tags": []
   },
   "outputs": [],
   "source": [
    "import spacy\n",
    "from numpy import empty\n",
    "\n",
    "def Autocorrection(correct_words,wrong_words, corrector='textblob'):\n",
    "  close_matches =[]\n",
    "  correct_counter = 0\n",
    "\n",
    "  if corrector=='autocorrect':\n",
    "    from autocorrect import Speller\n",
    "    spell = Speller(lang='en')\n",
    "\n",
    "  if corrector=='pyspellchecker':\n",
    "    from spellchecker import SpellChecker\n",
    "    spell = SpellChecker()\n",
    "\n",
    "  if corrector=='contextualSpellCheck':\n",
    "    import contextualSpellCheck\n",
    "    nlp = spacy.load('en_core_web_sm')\n",
    "    contextualSpellCheck.add_to_pipe(nlp)  \n",
    "\n",
    "  if corrector=='textblob':\n",
    "    from textblob import TextBlob\n",
    "\n",
    "  for i in range(len(correct_words)):\n",
    "\n",
    "    correct_w = correct_words[i]\n",
    "    wrong = wrong_words[i]\n",
    "    if corrector=='autocorrect':\n",
    "      close_match = spell(wrong)\n",
    "\n",
    "    if corrector=='pyspellchecker':\n",
    "      close_match = spell.correction(wrong)\n",
    "      \n",
    "    if corrector=='contextualSpellCheck':\n",
    "      close_match = nlp(wrong)\n",
    "\n",
    "    if corrector=='textblob':\n",
    "      close_match = TextBlob(wrong).correct()\n",
    "\n",
    "    if close_match is not empty and close_match == correct_w:\n",
    "      correct_counter+=1\n",
    "    close_matches.append(close_match)\n",
    "\n",
    "  return close_matches, correct_counter/len(correct_words)"
   ]
  },
  {
   "cell_type": "markdown",
   "id": "94b883c2",
   "metadata": {
    "papermill": {
     "duration": 0.011783,
     "end_time": "2022-08-27T22:53:03.919221",
     "exception": false,
     "start_time": "2022-08-27T22:53:03.907438",
     "status": "completed"
    },
    "tags": []
   },
   "source": [
    "# Try Different Correction library"
   ]
  },
  {
   "cell_type": "markdown",
   "id": "f4208172",
   "metadata": {
    "id": "xEAXOF29aeeX",
    "papermill": {
     "duration": 0.011774,
     "end_time": "2022-08-27T22:53:03.943058",
     "exception": false,
     "start_time": "2022-08-27T22:53:03.931284",
     "status": "completed"
    },
    "tags": []
   },
   "source": [
    "## contextualSpellCheck"
   ]
  },
  {
   "cell_type": "code",
   "execution_count": 12,
   "id": "9ee2d567",
   "metadata": {
    "execution": {
     "iopub.execute_input": "2022-08-27T22:53:03.969631Z",
     "iopub.status.busy": "2022-08-27T22:53:03.968985Z",
     "iopub.status.idle": "2022-08-27T22:53:15.464066Z",
     "shell.execute_reply": "2022-08-27T22:53:15.462769Z"
    },
    "executionInfo": {
     "elapsed": 2968,
     "status": "ok",
     "timestamp": 1661521037896,
     "user": {
      "displayName": "girgis micheal",
      "userId": "08835413358043215546"
     },
     "user_tz": -120
    },
    "id": "ylDA-lyWHsV2",
    "outputId": "de5a54f3-64c7-47aa-ea69-6f3bf4e5f88e",
    "papermill": {
     "duration": 11.51157,
     "end_time": "2022-08-27T22:53:15.466764",
     "exception": false,
     "start_time": "2022-08-27T22:53:03.955194",
     "status": "completed"
    },
    "tags": []
   },
   "outputs": [
    {
     "name": "stdout",
     "output_type": "stream",
     "text": [
      "Collecting contextualSpellCheck\r\n",
      "  Downloading contextualSpellCheck-0.4.3-py3-none-any.whl (128 kB)\r\n",
      "\u001b[2K     \u001b[90m━━━━━━━━━━━━━━━━━━━━━━━━━━━━━━━━━━━━━━━\u001b[0m \u001b[32m128.8/128.8 kB\u001b[0m \u001b[31m3.2 MB/s\u001b[0m eta \u001b[36m0:00:00\u001b[0m\r\n",
      "\u001b[?25hRequirement already satisfied: torch>=1.4 in /opt/conda/lib/python3.7/site-packages (from contextualSpellCheck) (1.11.0+cpu)\r\n",
      "Collecting editdistance==0.6.0\r\n",
      "  Downloading editdistance-0.6.0-cp37-cp37m-manylinux2010_x86_64.whl (285 kB)\r\n",
      "\u001b[2K     \u001b[90m━━━━━━━━━━━━━━━━━━━━━━━━━━━━━━━━━━━━━━\u001b[0m \u001b[32m285.6/285.6 kB\u001b[0m \u001b[31m10.1 MB/s\u001b[0m eta \u001b[36m0:00:00\u001b[0m\r\n",
      "\u001b[?25hRequirement already satisfied: transformers>=4.0.0 in /opt/conda/lib/python3.7/site-packages (from contextualSpellCheck) (4.20.1)\r\n",
      "Requirement already satisfied: spacy>=3.0.0 in /opt/conda/lib/python3.7/site-packages (from contextualSpellCheck) (3.3.1)\r\n",
      "Requirement already satisfied: thinc<8.1.0,>=8.0.14 in /opt/conda/lib/python3.7/site-packages (from spacy>=3.0.0->contextualSpellCheck) (8.0.17)\r\n",
      "Requirement already satisfied: pydantic!=1.8,!=1.8.1,<1.9.0,>=1.7.4 in /opt/conda/lib/python3.7/site-packages (from spacy>=3.0.0->contextualSpellCheck) (1.8.2)\r\n",
      "Requirement already satisfied: typer<0.5.0,>=0.3.0 in /opt/conda/lib/python3.7/site-packages (from spacy>=3.0.0->contextualSpellCheck) (0.4.2)\r\n",
      "Requirement already satisfied: spacy-legacy<3.1.0,>=3.0.9 in /opt/conda/lib/python3.7/site-packages (from spacy>=3.0.0->contextualSpellCheck) (3.0.10)\r\n",
      "Requirement already satisfied: srsly<3.0.0,>=2.4.3 in /opt/conda/lib/python3.7/site-packages (from spacy>=3.0.0->contextualSpellCheck) (2.4.4)\r\n",
      "Requirement already satisfied: jinja2 in /opt/conda/lib/python3.7/site-packages (from spacy>=3.0.0->contextualSpellCheck) (3.1.2)\r\n",
      "Requirement already satisfied: typing-extensions<4.2.0,>=3.7.4 in /opt/conda/lib/python3.7/site-packages (from spacy>=3.0.0->contextualSpellCheck) (4.1.1)\r\n",
      "Requirement already satisfied: langcodes<4.0.0,>=3.2.0 in /opt/conda/lib/python3.7/site-packages (from spacy>=3.0.0->contextualSpellCheck) (3.3.0)\r\n",
      "Requirement already satisfied: catalogue<2.1.0,>=2.0.6 in /opt/conda/lib/python3.7/site-packages (from spacy>=3.0.0->contextualSpellCheck) (2.0.8)\r\n",
      "Requirement already satisfied: tqdm<5.0.0,>=4.38.0 in /opt/conda/lib/python3.7/site-packages (from spacy>=3.0.0->contextualSpellCheck) (4.64.0)\r\n",
      "Requirement already satisfied: spacy-loggers<2.0.0,>=1.0.0 in /opt/conda/lib/python3.7/site-packages (from spacy>=3.0.0->contextualSpellCheck) (1.0.3)\r\n",
      "Requirement already satisfied: packaging>=20.0 in /opt/conda/lib/python3.7/site-packages (from spacy>=3.0.0->contextualSpellCheck) (21.3)\r\n",
      "Requirement already satisfied: setuptools in /opt/conda/lib/python3.7/site-packages (from spacy>=3.0.0->contextualSpellCheck) (59.8.0)\r\n",
      "Requirement already satisfied: requests<3.0.0,>=2.13.0 in /opt/conda/lib/python3.7/site-packages (from spacy>=3.0.0->contextualSpellCheck) (2.28.1)\r\n",
      "Requirement already satisfied: numpy>=1.15.0 in /opt/conda/lib/python3.7/site-packages (from spacy>=3.0.0->contextualSpellCheck) (1.21.6)\r\n",
      "Requirement already satisfied: blis<0.8.0,>=0.4.0 in /opt/conda/lib/python3.7/site-packages (from spacy>=3.0.0->contextualSpellCheck) (0.7.8)\r\n",
      "Requirement already satisfied: murmurhash<1.1.0,>=0.28.0 in /opt/conda/lib/python3.7/site-packages (from spacy>=3.0.0->contextualSpellCheck) (1.0.8)\r\n",
      "Requirement already satisfied: preshed<3.1.0,>=3.0.2 in /opt/conda/lib/python3.7/site-packages (from spacy>=3.0.0->contextualSpellCheck) (3.0.7)\r\n",
      "Requirement already satisfied: wasabi<1.1.0,>=0.9.1 in /opt/conda/lib/python3.7/site-packages (from spacy>=3.0.0->contextualSpellCheck) (0.10.1)\r\n",
      "Requirement already satisfied: pathy>=0.3.5 in /opt/conda/lib/python3.7/site-packages (from spacy>=3.0.0->contextualSpellCheck) (0.6.2)\r\n",
      "Requirement already satisfied: cymem<2.1.0,>=2.0.2 in /opt/conda/lib/python3.7/site-packages (from spacy>=3.0.0->contextualSpellCheck) (2.0.6)\r\n",
      "Requirement already satisfied: huggingface-hub<1.0,>=0.1.0 in /opt/conda/lib/python3.7/site-packages (from transformers>=4.0.0->contextualSpellCheck) (0.8.1)\r\n",
      "Requirement already satisfied: regex!=2019.12.17 in /opt/conda/lib/python3.7/site-packages (from transformers>=4.0.0->contextualSpellCheck) (2021.11.10)\r\n",
      "Requirement already satisfied: importlib-metadata in /opt/conda/lib/python3.7/site-packages (from transformers>=4.0.0->contextualSpellCheck) (4.12.0)\r\n",
      "Requirement already satisfied: pyyaml>=5.1 in /opt/conda/lib/python3.7/site-packages (from transformers>=4.0.0->contextualSpellCheck) (6.0)\r\n",
      "Requirement already satisfied: tokenizers!=0.11.3,<0.13,>=0.11.1 in /opt/conda/lib/python3.7/site-packages (from transformers>=4.0.0->contextualSpellCheck) (0.12.1)\r\n",
      "Requirement already satisfied: filelock in /opt/conda/lib/python3.7/site-packages (from transformers>=4.0.0->contextualSpellCheck) (3.7.1)\r\n",
      "Requirement already satisfied: zipp>=0.5 in /opt/conda/lib/python3.7/site-packages (from catalogue<2.1.0,>=2.0.6->spacy>=3.0.0->contextualSpellCheck) (3.8.0)\r\n",
      "Requirement already satisfied: pyparsing!=3.0.5,>=2.0.2 in /opt/conda/lib/python3.7/site-packages (from packaging>=20.0->spacy>=3.0.0->contextualSpellCheck) (3.0.9)\r\n",
      "Requirement already satisfied: smart-open<6.0.0,>=5.2.1 in /opt/conda/lib/python3.7/site-packages (from pathy>=0.3.5->spacy>=3.0.0->contextualSpellCheck) (5.2.1)\r\n",
      "Requirement already satisfied: idna<4,>=2.5 in /opt/conda/lib/python3.7/site-packages (from requests<3.0.0,>=2.13.0->spacy>=3.0.0->contextualSpellCheck) (3.3)\r\n",
      "Requirement already satisfied: charset-normalizer<3,>=2 in /opt/conda/lib/python3.7/site-packages (from requests<3.0.0,>=2.13.0->spacy>=3.0.0->contextualSpellCheck) (2.1.0)\r\n",
      "Requirement already satisfied: certifi>=2017.4.17 in /opt/conda/lib/python3.7/site-packages (from requests<3.0.0,>=2.13.0->spacy>=3.0.0->contextualSpellCheck) (2022.6.15)\r\n",
      "Requirement already satisfied: urllib3<1.27,>=1.21.1 in /opt/conda/lib/python3.7/site-packages (from requests<3.0.0,>=2.13.0->spacy>=3.0.0->contextualSpellCheck) (1.26.11)\r\n",
      "Requirement already satisfied: click<9.0.0,>=7.1.1 in /opt/conda/lib/python3.7/site-packages (from typer<0.5.0,>=0.3.0->spacy>=3.0.0->contextualSpellCheck) (8.0.4)\r\n",
      "Requirement already satisfied: MarkupSafe>=2.0 in /opt/conda/lib/python3.7/site-packages (from jinja2->spacy>=3.0.0->contextualSpellCheck) (2.1.1)\r\n",
      "Installing collected packages: editdistance, contextualSpellCheck\r\n",
      "Successfully installed contextualSpellCheck-0.4.3 editdistance-0.6.0\r\n",
      "\u001b[33mWARNING: Running pip as the 'root' user can result in broken permissions and conflicting behaviour with the system package manager. It is recommended to use a virtual environment instead: https://pip.pypa.io/warnings/venv\u001b[0m\u001b[33m\r\n",
      "\u001b[0m"
     ]
    }
   ],
   "source": [
    "!pip install contextualSpellCheck"
   ]
  },
  {
   "cell_type": "code",
   "execution_count": 13,
   "id": "5dc71eb4",
   "metadata": {
    "execution": {
     "iopub.execute_input": "2022-08-27T22:53:15.495867Z",
     "iopub.status.busy": "2022-08-27T22:53:15.495422Z",
     "iopub.status.idle": "2022-08-27T22:55:45.613202Z",
     "shell.execute_reply": "2022-08-27T22:55:45.611347Z"
    },
    "executionInfo": {
     "elapsed": 82729,
     "status": "ok",
     "timestamp": 1661521120620,
     "user": {
      "displayName": "girgis micheal",
      "userId": "08835413358043215546"
     },
     "user_tz": -120
    },
    "id": "NjtBUqKeHpgT",
    "papermill": {
     "duration": 150.138134,
     "end_time": "2022-08-27T22:55:45.618716",
     "exception": false,
     "start_time": "2022-08-27T22:53:15.480582",
     "status": "completed"
    },
    "tags": []
   },
   "outputs": [
    {
     "data": {
      "application/vnd.jupyter.widget-view+json": {
       "model_id": "af1c6af10817466988968b224ce2c581",
       "version_major": 2,
       "version_minor": 0
      },
      "text/plain": [
       "Downloading:   0%|          | 0.00/29.0 [00:00<?, ?B/s]"
      ]
     },
     "metadata": {},
     "output_type": "display_data"
    },
    {
     "data": {
      "application/vnd.jupyter.widget-view+json": {
       "model_id": "3637291a89fe495fbc9dd48a5a724ecf",
       "version_major": 2,
       "version_minor": 0
      },
      "text/plain": [
       "Downloading:   0%|          | 0.00/570 [00:00<?, ?B/s]"
      ]
     },
     "metadata": {},
     "output_type": "display_data"
    },
    {
     "data": {
      "application/vnd.jupyter.widget-view+json": {
       "model_id": "ef547f0d43ee462cbf72e4a8f16afeea",
       "version_major": 2,
       "version_minor": 0
      },
      "text/plain": [
       "Downloading:   0%|          | 0.00/208k [00:00<?, ?B/s]"
      ]
     },
     "metadata": {},
     "output_type": "display_data"
    },
    {
     "data": {
      "application/vnd.jupyter.widget-view+json": {
       "model_id": "f827863ab10a4a87a5db421110675dfa",
       "version_major": 2,
       "version_minor": 0
      },
      "text/plain": [
       "Downloading:   0%|          | 0.00/426k [00:00<?, ?B/s]"
      ]
     },
     "metadata": {},
     "output_type": "display_data"
    },
    {
     "data": {
      "application/vnd.jupyter.widget-view+json": {
       "model_id": "1d8e727c697c490a82e79ca09930de3c",
       "version_major": 2,
       "version_minor": 0
      },
      "text/plain": [
       "Downloading:   0%|          | 0.00/416M [00:00<?, ?B/s]"
      ]
     },
     "metadata": {},
     "output_type": "display_data"
    }
   ],
   "source": [
    "corrected_contextualSpellCheck, contextualSpellCheck_acc = Autocorrection(df.iloc[:,0],df.iloc[:,1],corrector='contextualSpellCheck')"
   ]
  },
  {
   "cell_type": "code",
   "execution_count": 14,
   "id": "83b50f90",
   "metadata": {
    "execution": {
     "iopub.execute_input": "2022-08-27T22:55:45.653742Z",
     "iopub.status.busy": "2022-08-27T22:55:45.651727Z",
     "iopub.status.idle": "2022-08-27T22:55:45.661389Z",
     "shell.execute_reply": "2022-08-27T22:55:45.660318Z"
    },
    "executionInfo": {
     "elapsed": 20,
     "status": "ok",
     "timestamp": 1661521120621,
     "user": {
      "displayName": "girgis micheal",
      "userId": "08835413358043215546"
     },
     "user_tz": -120
    },
    "id": "BmMTY8ufs4Xe",
    "outputId": "3a628e2d-4b20-49c7-f163-b6314858f2d4",
    "papermill": {
     "duration": 0.029065,
     "end_time": "2022-08-27T22:55:45.664839",
     "exception": false,
     "start_time": "2022-08-27T22:55:45.635774",
     "status": "completed"
    },
    "tags": []
   },
   "outputs": [
    {
     "data": {
      "text/plain": [
       "0.0"
      ]
     },
     "execution_count": 14,
     "metadata": {},
     "output_type": "execute_result"
    }
   ],
   "source": [
    "contextualSpellCheck_acc"
   ]
  },
  {
   "cell_type": "markdown",
   "id": "06ce79bc",
   "metadata": {
    "id": "jw1LSZ1YUKU4",
    "papermill": {
     "duration": 0.013375,
     "end_time": "2022-08-27T22:55:45.692068",
     "exception": false,
     "start_time": "2022-08-27T22:55:45.678693",
     "status": "completed"
    },
    "tags": []
   },
   "source": [
    "## textblob"
   ]
  },
  {
   "cell_type": "code",
   "execution_count": 15,
   "id": "efaed808",
   "metadata": {
    "execution": {
     "iopub.execute_input": "2022-08-27T22:55:45.721842Z",
     "iopub.status.busy": "2022-08-27T22:55:45.721413Z",
     "iopub.status.idle": "2022-08-27T22:55:56.883289Z",
     "shell.execute_reply": "2022-08-27T22:55:56.882179Z"
    },
    "executionInfo": {
     "elapsed": 4353,
     "status": "ok",
     "timestamp": 1661521124957,
     "user": {
      "displayName": "girgis micheal",
      "userId": "08835413358043215546"
     },
     "user_tz": -120
    },
    "id": "hSHowygeUMww",
    "outputId": "88fcd3fd-6731-4cfa-a5fe-7018adcc9a60",
    "papermill": {
     "duration": 11.180146,
     "end_time": "2022-08-27T22:55:56.886246",
     "exception": false,
     "start_time": "2022-08-27T22:55:45.706100",
     "status": "completed"
    },
    "tags": []
   },
   "outputs": [
    {
     "name": "stdout",
     "output_type": "stream",
     "text": [
      "huggingface/tokenizers: The current process just got forked, after parallelism has already been used. Disabling parallelism to avoid deadlocks...\n",
      "To disable this warning, you can either:\n",
      "\t- Avoid using `tokenizers` before the fork if possible\n",
      "\t- Explicitly set the environment variable TOKENIZERS_PARALLELISM=(true | false)\n",
      "Requirement already satisfied: textblob in /opt/conda/lib/python3.7/site-packages (0.17.1)\r\n",
      "Requirement already satisfied: nltk>=3.1 in /opt/conda/lib/python3.7/site-packages (from textblob) (3.7)\r\n",
      "Requirement already satisfied: regex>=2021.8.3 in /opt/conda/lib/python3.7/site-packages (from nltk>=3.1->textblob) (2021.11.10)\r\n",
      "Requirement already satisfied: joblib in /opt/conda/lib/python3.7/site-packages (from nltk>=3.1->textblob) (1.0.1)\r\n",
      "Requirement already satisfied: tqdm in /opt/conda/lib/python3.7/site-packages (from nltk>=3.1->textblob) (4.64.0)\r\n",
      "Requirement already satisfied: click in /opt/conda/lib/python3.7/site-packages (from nltk>=3.1->textblob) (8.0.4)\r\n",
      "Requirement already satisfied: importlib-metadata in /opt/conda/lib/python3.7/site-packages (from click->nltk>=3.1->textblob) (4.12.0)\r\n",
      "Requirement already satisfied: typing-extensions>=3.6.4 in /opt/conda/lib/python3.7/site-packages (from importlib-metadata->click->nltk>=3.1->textblob) (4.1.1)\r\n",
      "Requirement already satisfied: zipp>=0.5 in /opt/conda/lib/python3.7/site-packages (from importlib-metadata->click->nltk>=3.1->textblob) (3.8.0)\r\n",
      "\u001b[33mWARNING: Running pip as the 'root' user can result in broken permissions and conflicting behaviour with the system package manager. It is recommended to use a virtual environment instead: https://pip.pypa.io/warnings/venv\u001b[0m\u001b[33m\r\n",
      "\u001b[0m"
     ]
    }
   ],
   "source": [
    "!pip install textblob"
   ]
  },
  {
   "cell_type": "code",
   "execution_count": 16,
   "id": "7d40aeaf",
   "metadata": {
    "execution": {
     "iopub.execute_input": "2022-08-27T22:55:56.918261Z",
     "iopub.status.busy": "2022-08-27T22:55:56.917829Z",
     "iopub.status.idle": "2022-08-27T22:57:11.461605Z",
     "shell.execute_reply": "2022-08-27T22:57:11.460277Z"
    },
    "executionInfo": {
     "elapsed": 42625,
     "status": "ok",
     "timestamp": 1661521167576,
     "user": {
      "displayName": "girgis micheal",
      "userId": "08835413358043215546"
     },
     "user_tz": -120
    },
    "id": "KFjWAApHrJYK",
    "papermill": {
     "duration": 74.563286,
     "end_time": "2022-08-27T22:57:11.465149",
     "exception": false,
     "start_time": "2022-08-27T22:55:56.901863",
     "status": "completed"
    },
    "tags": []
   },
   "outputs": [],
   "source": [
    "corrected_textblob, textblob_acc = Autocorrection(df.iloc[:,0],df.iloc[:,1],corrector='textblob')"
   ]
  },
  {
   "cell_type": "code",
   "execution_count": 17,
   "id": "83070fa4",
   "metadata": {
    "execution": {
     "iopub.execute_input": "2022-08-27T22:57:11.496724Z",
     "iopub.status.busy": "2022-08-27T22:57:11.496311Z",
     "iopub.status.idle": "2022-08-27T22:57:11.508218Z",
     "shell.execute_reply": "2022-08-27T22:57:11.507141Z"
    },
    "executionInfo": {
     "elapsed": 27,
     "status": "ok",
     "timestamp": 1661521167577,
     "user": {
      "displayName": "girgis micheal",
      "userId": "08835413358043215546"
     },
     "user_tz": -120
    },
    "id": "-5tx9hE6YmeN",
    "outputId": "c4b04e89-241e-455d-c764-e886d70e077a",
    "papermill": {
     "duration": 0.031041,
     "end_time": "2022-08-27T22:57:11.511189",
     "exception": false,
     "start_time": "2022-08-27T22:57:11.480148",
     "status": "completed"
    },
    "tags": []
   },
   "outputs": [
    {
     "data": {
      "text/plain": [
       "0.41"
      ]
     },
     "execution_count": 17,
     "metadata": {},
     "output_type": "execute_result"
    }
   ],
   "source": [
    "textblob_acc"
   ]
  },
  {
   "cell_type": "markdown",
   "id": "bd0a20c1",
   "metadata": {
    "id": "vM-coya7WE1J",
    "papermill": {
     "duration": 0.014303,
     "end_time": "2022-08-27T22:57:11.540162",
     "exception": false,
     "start_time": "2022-08-27T22:57:11.525859",
     "status": "completed"
    },
    "tags": []
   },
   "source": [
    "## pyspellchecker"
   ]
  },
  {
   "cell_type": "code",
   "execution_count": 18,
   "id": "87c8f082",
   "metadata": {
    "execution": {
     "iopub.execute_input": "2022-08-27T22:57:11.571669Z",
     "iopub.status.busy": "2022-08-27T22:57:11.570915Z",
     "iopub.status.idle": "2022-08-27T22:57:23.001768Z",
     "shell.execute_reply": "2022-08-27T22:57:23.000548Z"
    },
    "executionInfo": {
     "elapsed": 5016,
     "status": "ok",
     "timestamp": 1661521172570,
     "user": {
      "displayName": "girgis micheal",
      "userId": "08835413358043215546"
     },
     "user_tz": -120
    },
    "id": "40l-CKyvWEQR",
    "outputId": "aa61e995-2f10-41da-dd74-de1830141b14",
    "papermill": {
     "duration": 11.450087,
     "end_time": "2022-08-27T22:57:23.004743",
     "exception": false,
     "start_time": "2022-08-27T22:57:11.554656",
     "status": "completed"
    },
    "tags": []
   },
   "outputs": [
    {
     "name": "stdout",
     "output_type": "stream",
     "text": [
      "huggingface/tokenizers: The current process just got forked, after parallelism has already been used. Disabling parallelism to avoid deadlocks...\n",
      "To disable this warning, you can either:\n",
      "\t- Avoid using `tokenizers` before the fork if possible\n",
      "\t- Explicitly set the environment variable TOKENIZERS_PARALLELISM=(true | false)\n",
      "Collecting pyspellchecker\r\n",
      "  Downloading pyspellchecker-0.6.3-py3-none-any.whl (2.7 MB)\r\n",
      "\u001b[2K     \u001b[90m━━━━━━━━━━━━━━━━━━━━━━━━━━━━━━━━━━━━━━━━\u001b[0m \u001b[32m2.7/2.7 MB\u001b[0m \u001b[31m25.9 MB/s\u001b[0m eta \u001b[36m0:00:00\u001b[0m\r\n",
      "\u001b[?25hInstalling collected packages: pyspellchecker\r\n",
      "Successfully installed pyspellchecker-0.6.3\r\n",
      "\u001b[33mWARNING: Running pip as the 'root' user can result in broken permissions and conflicting behaviour with the system package manager. It is recommended to use a virtual environment instead: https://pip.pypa.io/warnings/venv\u001b[0m\u001b[33m\r\n",
      "\u001b[0m"
     ]
    }
   ],
   "source": [
    "!pip install pyspellchecker"
   ]
  },
  {
   "cell_type": "code",
   "execution_count": 19,
   "id": "574ccae7",
   "metadata": {
    "execution": {
     "iopub.execute_input": "2022-08-27T22:57:23.038447Z",
     "iopub.status.busy": "2022-08-27T22:57:23.037715Z",
     "iopub.status.idle": "2022-08-27T22:58:32.783658Z",
     "shell.execute_reply": "2022-08-27T22:58:32.782169Z"
    },
    "executionInfo": {
     "elapsed": 37417,
     "status": "ok",
     "timestamp": 1661521209983,
     "user": {
      "displayName": "girgis micheal",
      "userId": "08835413358043215546"
     },
     "user_tz": -120
    },
    "id": "udcSXuKErW6f",
    "papermill": {
     "duration": 69.767421,
     "end_time": "2022-08-27T22:58:32.787714",
     "exception": false,
     "start_time": "2022-08-27T22:57:23.020293",
     "status": "completed"
    },
    "tags": []
   },
   "outputs": [],
   "source": [
    "corrected_pyspellchecker, pyspellchecker_acc = Autocorrection(df.iloc[:,0],df.iloc[:,1],corrector='pyspellchecker')"
   ]
  },
  {
   "cell_type": "code",
   "execution_count": 20,
   "id": "30ea0716",
   "metadata": {
    "execution": {
     "iopub.execute_input": "2022-08-27T22:58:32.822132Z",
     "iopub.status.busy": "2022-08-27T22:58:32.820892Z",
     "iopub.status.idle": "2022-08-27T22:58:32.828862Z",
     "shell.execute_reply": "2022-08-27T22:58:32.827627Z"
    },
    "executionInfo": {
     "elapsed": 20,
     "status": "ok",
     "timestamp": 1661521209986,
     "user": {
      "displayName": "girgis micheal",
      "userId": "08835413358043215546"
     },
     "user_tz": -120
    },
    "id": "-DDFE4xYtRyr",
    "outputId": "7cdd2790-64b9-417d-cb83-4fd0f252eda4",
    "papermill": {
     "duration": 0.02719,
     "end_time": "2022-08-27T22:58:32.831312",
     "exception": false,
     "start_time": "2022-08-27T22:58:32.804122",
     "status": "completed"
    },
    "tags": []
   },
   "outputs": [
    {
     "data": {
      "text/plain": [
       "0.445"
      ]
     },
     "execution_count": 20,
     "metadata": {},
     "output_type": "execute_result"
    }
   ],
   "source": [
    "pyspellchecker_acc"
   ]
  },
  {
   "cell_type": "markdown",
   "id": "1b125214",
   "metadata": {
    "id": "EqOg6Sx7bgdu",
    "papermill": {
     "duration": 0.015012,
     "end_time": "2022-08-27T22:58:32.861531",
     "exception": false,
     "start_time": "2022-08-27T22:58:32.846519",
     "status": "completed"
    },
    "tags": []
   },
   "source": [
    "## autocorrect (Speller)"
   ]
  },
  {
   "cell_type": "code",
   "execution_count": 21,
   "id": "f78fab36",
   "metadata": {
    "execution": {
     "iopub.execute_input": "2022-08-27T22:58:32.894880Z",
     "iopub.status.busy": "2022-08-27T22:58:32.894084Z",
     "iopub.status.idle": "2022-08-27T22:58:46.344204Z",
     "shell.execute_reply": "2022-08-27T22:58:46.342675Z"
    },
    "executionInfo": {
     "elapsed": 4599,
     "status": "ok",
     "timestamp": 1661521214567,
     "user": {
      "displayName": "girgis micheal",
      "userId": "08835413358043215546"
     },
     "user_tz": -120
    },
    "id": "HGaihtjZbkk4",
    "outputId": "d6c80d06-2154-480f-c4fd-30f2f7edd9fa",
    "papermill": {
     "duration": 13.470066,
     "end_time": "2022-08-27T22:58:46.347394",
     "exception": false,
     "start_time": "2022-08-27T22:58:32.877328",
     "status": "completed"
    },
    "tags": []
   },
   "outputs": [
    {
     "name": "stdout",
     "output_type": "stream",
     "text": [
      "huggingface/tokenizers: The current process just got forked, after parallelism has already been used. Disabling parallelism to avoid deadlocks...\n",
      "To disable this warning, you can either:\n",
      "\t- Avoid using `tokenizers` before the fork if possible\n",
      "\t- Explicitly set the environment variable TOKENIZERS_PARALLELISM=(true | false)\n",
      "Collecting autocorrect\r\n",
      "  Downloading autocorrect-2.6.1.tar.gz (622 kB)\r\n",
      "\u001b[2K     \u001b[90m━━━━━━━━━━━━━━━━━━━━━━━━━━━━━━━━━━━━━━━\u001b[0m \u001b[32m622.8/622.8 kB\u001b[0m \u001b[31m9.7 MB/s\u001b[0m eta \u001b[36m0:00:00\u001b[0m\r\n",
      "\u001b[?25h  Preparing metadata (setup.py) ... \u001b[?25l-\b \bdone\r\n",
      "\u001b[?25hBuilding wheels for collected packages: autocorrect\r\n",
      "  Building wheel for autocorrect (setup.py) ... \u001b[?25l-\b \b\\\b \bdone\r\n",
      "\u001b[?25h  Created wheel for autocorrect: filename=autocorrect-2.6.1-py3-none-any.whl size=622382 sha256=e4e745dfa19338fd3c9882221f9f175b1faf9bb4ead58d8d7c1a1c8c9b957ea1\r\n",
      "  Stored in directory: /root/.cache/pip/wheels/54/d4/37/8244101ad50b0f7d9bffd93ce58ed7991ee1753b290923934b\r\n",
      "Successfully built autocorrect\r\n",
      "Installing collected packages: autocorrect\r\n",
      "Successfully installed autocorrect-2.6.1\r\n",
      "\u001b[33mWARNING: Running pip as the 'root' user can result in broken permissions and conflicting behaviour with the system package manager. It is recommended to use a virtual environment instead: https://pip.pypa.io/warnings/venv\u001b[0m\u001b[33m\r\n",
      "\u001b[0m"
     ]
    }
   ],
   "source": [
    "! pip install autocorrect"
   ]
  },
  {
   "cell_type": "code",
   "execution_count": 22,
   "id": "6617a1ad",
   "metadata": {
    "execution": {
     "iopub.execute_input": "2022-08-27T22:58:46.382194Z",
     "iopub.status.busy": "2022-08-27T22:58:46.381771Z",
     "iopub.status.idle": "2022-08-27T22:59:13.820373Z",
     "shell.execute_reply": "2022-08-27T22:59:13.819010Z"
    },
    "executionInfo": {
     "elapsed": 23409,
     "status": "ok",
     "timestamp": 1661521237972,
     "user": {
      "displayName": "girgis micheal",
      "userId": "08835413358043215546"
     },
     "user_tz": -120
    },
    "id": "Rve8CLGRreCB",
    "papermill": {
     "duration": 27.459709,
     "end_time": "2022-08-27T22:59:13.823385",
     "exception": false,
     "start_time": "2022-08-27T22:58:46.363676",
     "status": "completed"
    },
    "tags": []
   },
   "outputs": [],
   "source": [
    "Correced_autocorrect, autocorrect_acc= Autocorrection(df.iloc[:,0],df.iloc[:,1],corrector='autocorrect')"
   ]
  },
  {
   "cell_type": "code",
   "execution_count": 23,
   "id": "23aa138a",
   "metadata": {
    "execution": {
     "iopub.execute_input": "2022-08-27T22:59:13.858250Z",
     "iopub.status.busy": "2022-08-27T22:59:13.857255Z",
     "iopub.status.idle": "2022-08-27T22:59:13.866070Z",
     "shell.execute_reply": "2022-08-27T22:59:13.864893Z"
    },
    "executionInfo": {
     "elapsed": 421,
     "status": "ok",
     "timestamp": 1661521246159,
     "user": {
      "displayName": "girgis micheal",
      "userId": "08835413358043215546"
     },
     "user_tz": -120
    },
    "id": "jU5LyMpkcG5e",
    "outputId": "b3657940-b4fa-4760-e2ff-dfc157bc7a08",
    "papermill": {
     "duration": 0.028878,
     "end_time": "2022-08-27T22:59:13.868822",
     "exception": false,
     "start_time": "2022-08-27T22:59:13.839944",
     "status": "completed"
    },
    "tags": []
   },
   "outputs": [
    {
     "data": {
      "text/plain": [
       "0.37"
      ]
     },
     "execution_count": 23,
     "metadata": {},
     "output_type": "execute_result"
    }
   ],
   "source": [
    "autocorrect_acc"
   ]
  },
  {
   "cell_type": "markdown",
   "id": "2fc1fa7a",
   "metadata": {
    "id": "A4VHCGjut7nl",
    "papermill": {
     "duration": 0.016212,
     "end_time": "2022-08-27T22:59:13.901665",
     "exception": false,
     "start_time": "2022-08-27T22:59:13.885453",
     "status": "completed"
    },
    "tags": []
   },
   "source": [
    "# Compare the Accuracies "
   ]
  },
  {
   "cell_type": "code",
   "execution_count": 24,
   "id": "bb79549c",
   "metadata": {
    "execution": {
     "iopub.execute_input": "2022-08-27T22:59:13.936346Z",
     "iopub.status.busy": "2022-08-27T22:59:13.935957Z",
     "iopub.status.idle": "2022-08-27T22:59:13.943817Z",
     "shell.execute_reply": "2022-08-27T22:59:13.942641Z"
    },
    "executionInfo": {
     "elapsed": 3,
     "status": "ok",
     "timestamp": 1661521246763,
     "user": {
      "displayName": "girgis micheal",
      "userId": "08835413358043215546"
     },
     "user_tz": -120
    },
    "id": "Uj7h0RPtEZDV",
    "outputId": "b31bf686-7369-47da-f7a5-210a463c8dc1",
    "papermill": {
     "duration": 0.027994,
     "end_time": "2022-08-27T22:59:13.946075",
     "exception": false,
     "start_time": "2022-08-27T22:59:13.918081",
     "status": "completed"
    },
    "tags": []
   },
   "outputs": [
    {
     "data": {
      "text/plain": [
       "{'contextualSpellCheck': 0.0,\n",
       " 'Speller': 0.37,\n",
       " 'textblob': 0.41,\n",
       " 'pyspellchecker': 0.445}"
      ]
     },
     "execution_count": 24,
     "metadata": {},
     "output_type": "execute_result"
    }
   ],
   "source": [
    "accuraicies = {'contextualSpellCheck':contextualSpellCheck_acc,'Speller':autocorrect_acc,'textblob':textblob_acc,'pyspellchecker':pyspellchecker_acc}\n",
    "accuraicies"
   ]
  },
  {
   "cell_type": "code",
   "execution_count": 25,
   "id": "4fd0b2b1",
   "metadata": {
    "execution": {
     "iopub.execute_input": "2022-08-27T22:59:13.981799Z",
     "iopub.status.busy": "2022-08-27T22:59:13.980691Z",
     "iopub.status.idle": "2022-08-27T22:59:14.220883Z",
     "shell.execute_reply": "2022-08-27T22:59:14.219626Z"
    },
    "executionInfo": {
     "elapsed": 6,
     "status": "ok",
     "timestamp": 1661521247789,
     "user": {
      "displayName": "girgis micheal",
      "userId": "08835413358043215546"
     },
     "user_tz": -120
    },
    "id": "MQPlxIf4FVvR",
    "outputId": "19a50866-53ed-4565-8bca-4ed1ee1c5a13",
    "papermill": {
     "duration": 0.260531,
     "end_time": "2022-08-27T22:59:14.223449",
     "exception": false,
     "start_time": "2022-08-27T22:59:13.962918",
     "status": "completed"
    },
    "tags": []
   },
   "outputs": [
    {
     "data": {
      "image/png": "[encoded data removed]",
      "text/plain": [
       "<Figure size 432x288 with 1 Axes>"
      ]
     },
     "metadata": {
      "needs_background": "light"
     },
     "output_type": "display_data"
    }
   ],
   "source": [
    "import matplotlib.pyplot as plt\n",
    "plt.bar(*zip(*accuraicies.items()))\n",
    "plt.show()"
   ]
  },
  {
   "cell_type": "markdown",
   "id": "6b860716",
   "metadata": {
    "id": "ZCmyeAE-FtzW",
    "papermill": {
     "duration": 0.016261,
     "end_time": "2022-08-27T22:59:14.256783",
     "exception": false,
     "start_time": "2022-08-27T22:59:14.240522",
     "status": "completed"
    },
    "tags": []
   },
   "source": [
    "> - The highest Autocorrection on our data is Pyspellchecker\n",
    "> - The contextualSpellCheck has 0 accuracy, and the make sense as it build for sentances not single words"
   ]
  },
  {
   "cell_type": "markdown",
   "id": "1b4bbfe3",
   "metadata": {
    "id": "VMQwZCsnGQaG",
    "papermill": {
     "duration": 0.016413,
     "end_time": "2022-08-27T22:59:14.289882",
     "exception": false,
     "start_time": "2022-08-27T22:59:14.273469",
     "status": "completed"
    },
    "tags": []
   },
   "source": [
    "# Check the model output"
   ]
  },
  {
   "cell_type": "code",
   "execution_count": 26,
   "id": "337923c6",
   "metadata": {
    "execution": {
     "iopub.execute_input": "2022-08-27T22:59:14.325023Z",
     "iopub.status.busy": "2022-08-27T22:59:14.324636Z",
     "iopub.status.idle": "2022-08-27T22:59:14.338833Z",
     "shell.execute_reply": "2022-08-27T22:59:14.337609Z"
    },
    "executionInfo": {
     "elapsed": 441,
     "status": "ok",
     "timestamp": 1661521252531,
     "user": {
      "displayName": "girgis micheal",
      "userId": "08835413358043215546"
     },
     "user_tz": -120
    },
    "id": "HcdmKR5UvD-G",
    "papermill": {
     "duration": 0.035209,
     "end_time": "2022-08-27T22:59:14.341709",
     "exception": false,
     "start_time": "2022-08-27T22:59:14.306500",
     "status": "completed"
    },
    "tags": []
   },
   "outputs": [],
   "source": [
    "df['pyspellcheckerOutput'] = corrected_pyspellchecker"
   ]
  },
  {
   "cell_type": "code",
   "execution_count": 27,
   "id": "bc877bac",
   "metadata": {
    "execution": {
     "iopub.execute_input": "2022-08-27T22:59:14.377048Z",
     "iopub.status.busy": "2022-08-27T22:59:14.376222Z",
     "iopub.status.idle": "2022-08-27T22:59:14.398795Z",
     "shell.execute_reply": "2022-08-27T22:59:14.397622Z"
    },
    "executionInfo": {
     "elapsed": 5,
     "status": "ok",
     "timestamp": 1661521253066,
     "user": {
      "displayName": "girgis micheal",
      "userId": "08835413358043215546"
     },
     "user_tz": -120
    },
    "id": "WJt47pdmvD-H",
    "outputId": "975d1515-f31e-4b7f-92fa-79c8f73dfc14",
    "papermill": {
     "duration": 0.043446,
     "end_time": "2022-08-27T22:59:14.401792",
     "exception": false,
     "start_time": "2022-08-27T22:59:14.358346",
     "status": "completed"
    },
    "tags": []
   },
   "outputs": [
    {
     "data": {
      "text/html": [
       "<div>\n",
       "<style scoped>\n",
       "    .dataframe tbody tr th:only-of-type {\n",
       "        vertical-align: middle;\n",
       "    }\n",
       "\n",
       "    .dataframe tbody tr th {\n",
       "        vertical-align: top;\n",
       "    }\n",
       "\n",
       "    .dataframe thead th {\n",
       "        text-align: right;\n",
       "    }\n",
       "</style>\n",
       "<table border=\"1\" class=\"dataframe\">\n",
       "  <thead>\n",
       "    <tr style=\"text-align: right;\">\n",
       "      <th></th>\n",
       "      <th>correct</th>\n",
       "      <th>wrong_1</th>\n",
       "      <th>pyspellcheckerOutput</th>\n",
       "    </tr>\n",
       "  </thead>\n",
       "  <tbody>\n",
       "    <tr>\n",
       "      <th>0</th>\n",
       "      <td>perpetrated</td>\n",
       "      <td>perpetrated</td>\n",
       "      <td>perpetrated</td>\n",
       "    </tr>\n",
       "    <tr>\n",
       "      <th>1</th>\n",
       "      <td>hazard</td>\n",
       "      <td>hazaard</td>\n",
       "      <td>hazard</td>\n",
       "    </tr>\n",
       "    <tr>\n",
       "      <th>2</th>\n",
       "      <td>abandon</td>\n",
       "      <td>abandaondon</td>\n",
       "      <td>abandaondon</td>\n",
       "    </tr>\n",
       "    <tr>\n",
       "      <th>3</th>\n",
       "      <td>driven</td>\n",
       "      <td>drirviven</td>\n",
       "      <td>drirviven</td>\n",
       "    </tr>\n",
       "    <tr>\n",
       "      <th>4</th>\n",
       "      <td>allow</td>\n",
       "      <td>allllow</td>\n",
       "      <td>allow</td>\n",
       "    </tr>\n",
       "    <tr>\n",
       "      <th>...</th>\n",
       "      <td>...</td>\n",
       "      <td>...</td>\n",
       "      <td>...</td>\n",
       "    </tr>\n",
       "    <tr>\n",
       "      <th>195</th>\n",
       "      <td>shamed</td>\n",
       "      <td>smahed</td>\n",
       "      <td>smashed</td>\n",
       "    </tr>\n",
       "    <tr>\n",
       "      <th>196</th>\n",
       "      <td>singular</td>\n",
       "      <td>singulnagular</td>\n",
       "      <td>singulnagular</td>\n",
       "    </tr>\n",
       "    <tr>\n",
       "      <th>197</th>\n",
       "      <td>cabinet</td>\n",
       "      <td>cabinaebinet</td>\n",
       "      <td>cabinaebinet</td>\n",
       "    </tr>\n",
       "    <tr>\n",
       "      <th>198</th>\n",
       "      <td>righteous</td>\n",
       "      <td>rightheteous</td>\n",
       "      <td>rightheteous</td>\n",
       "    </tr>\n",
       "    <tr>\n",
       "      <th>199</th>\n",
       "      <td>requires</td>\n",
       "      <td>reruiqes</td>\n",
       "      <td>requires</td>\n",
       "    </tr>\n",
       "  </tbody>\n",
       "</table>\n",
       "<p>200 rows × 3 columns</p>\n",
       "</div>"
      ],
      "text/plain": [
       "         correct        wrong_1 pyspellcheckerOutput\n",
       "0    perpetrated    perpetrated          perpetrated\n",
       "1         hazard        hazaard               hazard\n",
       "2        abandon    abandaondon          abandaondon\n",
       "3         driven      drirviven            drirviven\n",
       "4          allow        allllow                allow\n",
       "..           ...            ...                  ...\n",
       "195       shamed         smahed              smashed\n",
       "196     singular  singulnagular        singulnagular\n",
       "197      cabinet   cabinaebinet         cabinaebinet\n",
       "198    righteous   rightheteous         rightheteous\n",
       "199     requires       reruiqes             requires\n",
       "\n",
       "[200 rows x 3 columns]"
      ]
     },
     "execution_count": 27,
     "metadata": {},
     "output_type": "execute_result"
    }
   ],
   "source": [
    "df"
   ]
  }
 ],
 "metadata": {
  "kernelspec": {
   "display_name": "Python 3",
   "language": "python",
   "name": "python3"
  },
  "language_info": {
   "codemirror_mode": {
    "name": "ipython",
    "version": 3
   },
   "file_extension": ".py",
   "mimetype": "text/x-python",
   "name": "python",
   "nbconvert_exporter": "python",
   "pygments_lexer": "ipython3",
   "version": "3.7.12"
  },
  "papermill": {
   "default_parameters": {},
   "duration": 428.732201,
   "end_time": "2022-08-27T22:59:17.348538",
   "environment_variables": {},
   "exception": null,
   "input_path": "__notebook__.ipynb",
   "output_path": "__notebook__.ipynb",
   "parameters": {},
   "start_time": "2022-08-27T22:52:08.616337",
   "version": "2.3.4"
  },
  "widgets": {
   "application/vnd.jupyter.widget-state+json": {
    "state": {
     "06bc5935b1bf44639cb248f0944b8a95": {
      "model_module": "@jupyter-widgets/base",
      "model_module_version": "1.2.0",
      "model_name": "LayoutModel",
      "state": {
       "_model_module": "@jupyter-widgets/base",
       "_model_module_version": "1.2.0",
       "_model_name": "LayoutModel",
       "_view_count": null,
       "_view_module": "@jupyter-widgets/base",
       "_view_module_version": "1.2.0",
       "_view_name": "LayoutView",
       "align_content": null,
       "align_items": null,
       "align_self": null,
       "border": null,
       "bottom": null,
       "display": null,
       "flex": null,
       "flex_flow": null,
       "grid_area": null,
       "grid_auto_columns": null,
       "grid_auto_flow": null,
       "grid_auto_rows": null,
       "grid_column": null,
       "grid_gap": null,
       "grid_row": null,
       "grid_template_areas": null,
       "grid_template_columns": null,
       "grid_template_rows": null,
       "height": null,
       "justify_content": null,
       "justify_items": null,
       "left": null,
       "margin": null,
       "max_height": null,
       "max_width": null,
       "min_height": null,
       "min_width": null,
       "object_fit": null,
       "object_position": null,
       "order": null,
       "overflow": null,
       "overflow_x": null,
       "overflow_y": null,
       "padding": null,
       "right": null,
       "top": null,
       "visibility": null,
       "width": null
      }
     },
     "07eed50c554e4757a6bd02ff00f4172a": {
      "model_module": "@jupyter-widgets/controls",
      "model_module_version": "1.5.0",
      "model_name": "HTMLModel",
      "state": {
       "_dom_classes": [],
       "_model_module": "@jupyter-widgets/controls",
       "_model_module_version": "1.5.0",
       "_model_name": "HTMLModel",
       "_view_count": null,
       "_view_module": "@jupyter-widgets/controls",
       "_view_module_version": "1.5.0",
       "_view_name": "HTMLView",
       "description": "",
       "description_tooltip": null,
       "layout": "IPY_MODEL_52f62aa6a2c14becbad319f6d19f90e4",
       "placeholder": "​",
       "style": "IPY_MODEL_5565ad46726241b1a5acc86326bcad1b",
       "value": "Downloading: 100%"
      }
     },
     "090611c66cef4f91a9584d4fd8bc46c3": {
      "model_module": "@jupyter-widgets/controls",
      "model_module_version": "1.5.0",
      "model_name": "HTMLModel",
      "state": {
       "_dom_classes": [],
       "_model_module": "@jupyter-widgets/controls",
       "_model_module_version": "1.5.0",
       "_model_name": "HTMLModel",
       "_view_count": null,
       "_view_module": "@jupyter-widgets/controls",
       "_view_module_version": "1.5.0",
       "_view_name": "HTMLView",
       "description": "",
       "description_tooltip": null,
       "layout": "IPY_MODEL_2c4a0cc00f4846908809fa0aa47ba030",
       "placeholder": "​",
       "style": "IPY_MODEL_f195030ba5044a598ce042d829062035",
       "value": "Downloading: 100%"
      }
     },
     "102928c2a88f4431b2a4095ae60eac67": {
      "model_module": "@jupyter-widgets/base",
      "model_module_version": "1.2.0",
      "model_name": "LayoutModel",
      "state": {
       "_model_module": "@jupyter-widgets/base",
       "_model_module_version": "1.2.0",
       "_model_name": "LayoutModel",
       "_view_count": null,
       "_view_module": "@jupyter-widgets/base",
       "_view_module_version": "1.2.0",
       "_view_name": "LayoutView",
       "align_content": null,
       "align_items": null,
       "align_self": null,
       "border": null,
       "bottom": null,
       "display": null,
       "flex": null,
       "flex_flow": null,
       "grid_area": null,
       "grid_auto_columns": null,
       "grid_auto_flow": null,
       "grid_auto_rows": null,
       "grid_column": null,
       "grid_gap": null,
       "grid_row": null,
       "grid_template_areas": null,
       "grid_template_columns": null,
       "grid_template_rows": null,
       "height": null,
       "justify_content": null,
       "justify_items": null,
       "left": null,
       "margin": null,
       "max_height": null,
       "max_width": null,
       "min_height": null,
       "min_width": null,
       "object_fit": null,
       "object_position": null,
       "order": null,
       "overflow": null,
       "overflow_x": null,
       "overflow_y": null,
       "padding": null,
       "right": null,
       "top": null,
       "visibility": null,
       "width": null
      }
     },
     "1227333028fe4f2cbb93526adb40fb35": {
      "model_module": "@jupyter-widgets/controls",
      "model_module_version": "1.5.0",
      "model_name": "DescriptionStyleModel",
      "state": {
       "_model_module": "@jupyter-widgets/controls",
       "_model_module_version": "1.5.0",
       "_model_name": "DescriptionStyleModel",
       "_view_count": null,
       "_view_module": "@jupyter-widgets/base",
       "_view_module_version": "1.2.0",
       "_view_name": "StyleView",
       "description_width": ""
      }
     },
     "12491f6db94745b590888f6bbafb1404": {
      "model_module": "@jupyter-widgets/controls",
      "model_module_version": "1.5.0",
      "model_name": "DescriptionStyleModel",
      "state": {
       "_model_module": "@jupyter-widgets/controls",
       "_model_module_version": "1.5.0",
       "_model_name": "DescriptionStyleModel",
       "_view_count": null,
       "_view_module": "@jupyter-widgets/base",
       "_view_module_version": "1.2.0",
       "_view_name": "StyleView",
       "description_width": ""
      }
     },
     "1be6177a6ba340c586a2cf1256bbf676": {
      "model_module": "@jupyter-widgets/base",
      "model_module_version": "1.2.0",
      "model_name": "LayoutModel",
      "state": {
       "_model_module": "@jupyter-widgets/base",
       "_model_module_version": "1.2.0",
       "_model_name": "LayoutModel",
       "_view_count": null,
       "_view_module": "@jupyter-widgets/base",
       "_view_module_version": "1.2.0",
       "_view_name": "LayoutView",
       "align_content": null,
       "align_items": null,
       "align_self": null,
       "border": null,
       "bottom": null,
       "display": null,
       "flex": null,
       "flex_flow": null,
       "grid_area": null,
       "grid_auto_columns": null,
       "grid_auto_flow": null,
       "grid_auto_rows": null,
       "grid_column": null,
       "grid_gap": null,
       "grid_row": null,
       "grid_template_areas": null,
       "grid_template_columns": null,
       "grid_template_rows": null,
       "height": null,
       "justify_content": null,
       "justify_items": null,
       "left": null,
       "margin": null,
       "max_height": null,
       "max_width": null,
       "min_height": null,
       "min_width": null,
       "object_fit": null,
       "object_position": null,
       "order": null,
       "overflow": null,
       "overflow_x": null,
       "overflow_y": null,
       "padding": null,
       "right": null,
       "top": null,
       "visibility": null,
       "width": null
      }
     },
     "1d8e727c697c490a82e79ca09930de3c": {
      "model_module": "@jupyter-widgets/controls",
      "model_module_version": "1.5.0",
      "model_name": "HBoxModel",
      "state": {
       "_dom_classes": [],
       "_model_module": "@jupyter-widgets/controls",
       "_model_module_version": "1.5.0",
       "_model_name": "HBoxModel",
       "_view_count": null,
       "_view_module": "@jupyter-widgets/controls",
       "_view_module_version": "1.5.0",
       "_view_name": "HBoxView",
       "box_style": "",
       "children": [
        "IPY_MODEL_090611c66cef4f91a9584d4fd8bc46c3",
        "IPY_MODEL_ca41fbc52554494cb687846a9b53a0ec",
        "IPY_MODEL_cee62bec82574831a55953b695d30c1b"
       ],
       "layout": "IPY_MODEL_9af31135097046d6a4591e8f28f34a39"
      }
     },
     "1f20b85dbef7499c83386e718e15c1b2": {
      "model_module": "@jupyter-widgets/base",
      "model_module_version": "1.2.0",
      "model_name": "LayoutModel",
      "state": {
       "_model_module": "@jupyter-widgets/base",
       "_model_module_version": "1.2.0",
       "_model_name": "LayoutModel",
       "_view_count": null,
       "_view_module": "@jupyter-widgets/base",
       "_view_module_version": "1.2.0",
       "_view_name": "LayoutView",
       "align_content": null,
       "align_items": null,
       "align_self": null,
       "border": null,
       "bottom": null,
       "display": null,
       "flex": null,
       "flex_flow": null,
       "grid_area": null,
       "grid_auto_columns": null,
       "grid_auto_flow": null,
       "grid_auto_rows": null,
       "grid_column": null,
       "grid_gap": null,
       "grid_row": null,
       "grid_template_areas": null,
       "grid_template_columns": null,
       "grid_template_rows": null,
       "height": null,
       "justify_content": null,
       "justify_items": null,
       "left": null,
       "margin": null,
       "max_height": null,
       "max_width": null,
       "min_height": null,
       "min_width": null,
       "object_fit": null,
       "object_position": null,
       "order": null,
       "overflow": null,
       "overflow_x": null,
       "overflow_y": null,
       "padding": null,
       "right": null,
       "top": null,
       "visibility": null,
       "width": null
      }
     },
     "239362f4b6fc4560a5f8a75b55883aba": {
      "model_module": "@jupyter-widgets/base",
      "model_module_version": "1.2.0",
      "model_name": "LayoutModel",
      "state": {
       "_model_module": "@jupyter-widgets/base",
       "_model_module_version": "1.2.0",
       "_model_name": "LayoutModel",
       "_view_count": null,
       "_view_module": "@jupyter-widgets/base",
       "_view_module_version": "1.2.0",
       "_view_name": "LayoutView",
       "align_content": null,
       "align_items": null,
       "align_self": null,
       "border": null,
       "bottom": null,
       "display": null,
       "flex": null,
       "flex_flow": null,
       "grid_area": null,
       "grid_auto_columns": null,
       "grid_auto_flow": null,
       "grid_auto_rows": null,
       "grid_column": null,
       "grid_gap": null,
       "grid_row": null,
       "grid_template_areas": null,
       "grid_template_columns": null,
       "grid_template_rows": null,
       "height": null,
       "justify_content": null,
       "justify_items": null,
       "left": null,
       "margin": null,
       "max_height": null,
       "max_width": null,
       "min_height": null,
       "min_width": null,
       "object_fit": null,
       "object_position": null,
       "order": null,
       "overflow": null,
       "overflow_x": null,
       "overflow_y": null,
       "padding": null,
       "right": null,
       "top": null,
       "visibility": null,
       "width": null
      }
     },
     "2c4a0cc00f4846908809fa0aa47ba030": {
      "model_module": "@jupyter-widgets/base",
      "model_module_version": "1.2.0",
      "model_name": "LayoutModel",
      "state": {
       "_model_module": "@jupyter-widgets/base",
       "_model_module_version": "1.2.0",
       "_model_name": "LayoutModel",
       "_view_count": null,
       "_view_module": "@jupyter-widgets/base",
       "_view_module_version": "1.2.0",
       "_view_name": "LayoutView",
       "align_content": null,
       "align_items": null,
       "align_self": null,
       "border": null,
       "bottom": null,
       "display": null,
       "flex": null,
       "flex_flow": null,
       "grid_area": null,
       "grid_auto_columns": null,
       "grid_auto_flow": null,
       "grid_auto_rows": null,
       "grid_column": null,
       "grid_gap": null,
       "grid_row": null,
       "grid_template_areas": null,
       "grid_template_columns": null,
       "grid_template_rows": null,
       "height": null,
       "justify_content": null,
       "justify_items": null,
       "left": null,
       "margin": null,
       "max_height": null,
       "max_width": null,
       "min_height": null,
       "min_width": null,
       "object_fit": null,
       "object_position": null,
       "order": null,
       "overflow": null,
       "overflow_x": null,
       "overflow_y": null,
       "padding": null,
       "right": null,
       "top": null,
       "visibility": null,
       "width": null
      }
     },
     "3637291a89fe495fbc9dd48a5a724ecf": {
      "model_module": "@jupyter-widgets/controls",
      "model_module_version": "1.5.0",
      "model_name": "HBoxModel",
      "state": {
       "_dom_classes": [],
       "_model_module": "@jupyter-widgets/controls",
       "_model_module_version": "1.5.0",
       "_model_name": "HBoxModel",
       "_view_count": null,
       "_view_module": "@jupyter-widgets/controls",
       "_view_module_version": "1.5.0",
       "_view_name": "HBoxView",
       "box_style": "",
       "children": [
        "IPY_MODEL_07eed50c554e4757a6bd02ff00f4172a",
        "IPY_MODEL_49f8640ab3d84d668a43b1757fdfc01e",
        "IPY_MODEL_da9e306af600446e8da2631e8b681cdb"
       ],
       "layout": "IPY_MODEL_da3c533d4c264674bee4abb3e11809d1"
      }
     },
     "3cbafcb4f9724ef59b2098a3f0a5baeb": {
      "model_module": "@jupyter-widgets/controls",
      "model_module_version": "1.5.0",
      "model_name": "DescriptionStyleModel",
      "state": {
       "_model_module": "@jupyter-widgets/controls",
       "_model_module_version": "1.5.0",
       "_model_name": "DescriptionStyleModel",
       "_view_count": null,
       "_view_module": "@jupyter-widgets/base",
       "_view_module_version": "1.2.0",
       "_view_name": "StyleView",
       "description_width": ""
      }
     },
     "4685b0c7d7f748178255f15b5402c0d2": {
      "model_module": "@jupyter-widgets/controls",
      "model_module_version": "1.5.0",
      "model_name": "FloatProgressModel",
      "state": {
       "_dom_classes": [],
       "_model_module": "@jupyter-widgets/controls",
       "_model_module_version": "1.5.0",
       "_model_name": "FloatProgressModel",
       "_view_count": null,
       "_view_module": "@jupyter-widgets/controls",
       "_view_module_version": "1.5.0",
       "_view_name": "ProgressView",
       "bar_style": "success",
       "description": "",
       "description_tooltip": null,
       "layout": "IPY_MODEL_06bc5935b1bf44639cb248f0944b8a95",
       "max": 213450.0,
       "min": 0.0,
       "orientation": "horizontal",
       "style": "IPY_MODEL_baff3af91e1342baa9acecfb708c07a1",
       "value": 213450.0
      }
     },
     "48309668d8fc4a3cb5a0265d6eb5d625": {
      "model_module": "@jupyter-widgets/controls",
      "model_module_version": "1.5.0",
      "model_name": "DescriptionStyleModel",
      "state": {
       "_model_module": "@jupyter-widgets/controls",
       "_model_module_version": "1.5.0",
       "_model_name": "DescriptionStyleModel",
       "_view_count": null,
       "_view_module": "@jupyter-widgets/base",
       "_view_module_version": "1.2.0",
       "_view_name": "StyleView",
       "description_width": ""
      }
     },
     "49f8640ab3d84d668a43b1757fdfc01e": {
      "model_module": "@jupyter-widgets/controls",
      "model_module_version": "1.5.0",
      "model_name": "FloatProgressModel",
      "state": {
       "_dom_classes": [],
       "_model_module": "@jupyter-widgets/controls",
       "_model_module_version": "1.5.0",
       "_model_name": "FloatProgressModel",
       "_view_count": null,
       "_view_module": "@jupyter-widgets/controls",
       "_view_module_version": "1.5.0",
       "_view_name": "ProgressView",
       "bar_style": "success",
       "description": "",
       "description_tooltip": null,
       "layout": "IPY_MODEL_9f04b1ef430a497cae0c153e173c8e94",
       "max": 570.0,
       "min": 0.0,
       "orientation": "horizontal",
       "style": "IPY_MODEL_b7a3be6cfa294244b944ae40c0e69a1b",
       "value": 570.0
      }
     },
     "4aa9e5207b5c4f03b919bb63d81a0096": {
      "model_module": "@jupyter-widgets/controls",
      "model_module_version": "1.5.0",
      "model_name": "DescriptionStyleModel",
      "state": {
       "_model_module": "@jupyter-widgets/controls",
       "_model_module_version": "1.5.0",
       "_model_name": "DescriptionStyleModel",
       "_view_count": null,
       "_view_module": "@jupyter-widgets/base",
       "_view_module_version": "1.2.0",
       "_view_name": "StyleView",
       "description_width": ""
      }
     },
     "5209ae51d7054929ac79e020b0d36600": {
      "model_module": "@jupyter-widgets/controls",
      "model_module_version": "1.5.0",
      "model_name": "ProgressStyleModel",
      "state": {
       "_model_module": "@jupyter-widgets/controls",
       "_model_module_version": "1.5.0",
       "_model_name": "ProgressStyleModel",
       "_view_count": null,
       "_view_module": "@jupyter-widgets/base",
       "_view_module_version": "1.2.0",
       "_view_name": "StyleView",
       "bar_color": null,
       "description_width": ""
      }
     },
     "525eb2b98ca843afb1ff2bd04cba4cae": {
      "model_module": "@jupyter-widgets/controls",
      "model_module_version": "1.5.0",
      "model_name": "ProgressStyleModel",
      "state": {
       "_model_module": "@jupyter-widgets/controls",
       "_model_module_version": "1.5.0",
       "_model_name": "ProgressStyleModel",
       "_view_count": null,
       "_view_module": "@jupyter-widgets/base",
       "_view_module_version": "1.2.0",
       "_view_name": "StyleView",
       "bar_color": null,
       "description_width": ""
      }
     },
     "52f62aa6a2c14becbad319f6d19f90e4": {
      "model_module": "@jupyter-widgets/base",
      "model_module_version": "1.2.0",
      "model_name": "LayoutModel",
      "state": {
       "_model_module": "@jupyter-widgets/base",
       "_model_module_version": "1.2.0",
       "_model_name": "LayoutModel",
       "_view_count": null,
       "_view_module": "@jupyter-widgets/base",
       "_view_module_version": "1.2.0",
       "_view_name": "LayoutView",
       "align_content": null,
       "align_items": null,
       "align_self": null,
       "border": null,
       "bottom": null,
       "display": null,
       "flex": null,
       "flex_flow": null,
       "grid_area": null,
       "grid_auto_columns": null,
       "grid_auto_flow": null,
       "grid_auto_rows": null,
       "grid_column": null,
       "grid_gap": null,
       "grid_row": null,
       "grid_template_areas": null,
       "grid_template_columns": null,
       "grid_template_rows": null,
       "height": null,
       "justify_content": null,
       "justify_items": null,
       "left": null,
       "margin": null,
       "max_height": null,
       "max_width": null,
       "min_height": null,
       "min_width": null,
       "object_fit": null,
       "object_position": null,
       "order": null,
       "overflow": null,
       "overflow_x": null,
       "overflow_y": null,
       "padding": null,
       "right": null,
       "top": null,
       "visibility": null,
       "width": null
      }
     },
     "5565ad46726241b1a5acc86326bcad1b": {
      "model_module": "@jupyter-widgets/controls",
      "model_module_version": "1.5.0",
      "model_name": "DescriptionStyleModel",
      "state": {
       "_model_module": "@jupyter-widgets/controls",
       "_model_module_version": "1.5.0",
       "_model_name": "DescriptionStyleModel",
       "_view_count": null,
       "_view_module": "@jupyter-widgets/base",
       "_view_module_version": "1.2.0",
       "_view_name": "StyleView",
       "description_width": ""
      }
     },
     "58c4239e46de46828f6470370d908ce8": {
      "model_module": "@jupyter-widgets/controls",
      "model_module_version": "1.5.0",
      "model_name": "HTMLModel",
      "state": {
       "_dom_classes": [],
       "_model_module": "@jupyter-widgets/controls",
       "_model_module_version": "1.5.0",
       "_model_name": "HTMLModel",
       "_view_count": null,
       "_view_module": "@jupyter-widgets/controls",
       "_view_module_version": "1.5.0",
       "_view_name": "HTMLView",
       "description": "",
       "description_tooltip": null,
       "layout": "IPY_MODEL_e8c52b3434fb452a80c2141d42bfcc4d",
       "placeholder": "​",
       "style": "IPY_MODEL_1227333028fe4f2cbb93526adb40fb35",
       "value": "Downloading: 100%"
      }
     },
     "5de55ba1b2434568bdd16e2d2b91ce6c": {
      "model_module": "@jupyter-widgets/base",
      "model_module_version": "1.2.0",
      "model_name": "LayoutModel",
      "state": {
       "_model_module": "@jupyter-widgets/base",
       "_model_module_version": "1.2.0",
       "_model_name": "LayoutModel",
       "_view_count": null,
       "_view_module": "@jupyter-widgets/base",
       "_view_module_version": "1.2.0",
       "_view_name": "LayoutView",
       "align_content": null,
       "align_items": null,
       "align_self": null,
       "border": null,
       "bottom": null,
       "display": null,
       "flex": null,
       "flex_flow": null,
       "grid_area": null,
       "grid_auto_columns": null,
       "grid_auto_flow": null,
       "grid_auto_rows": null,
       "grid_column": null,
       "grid_gap": null,
       "grid_row": null,
       "grid_template_areas": null,
       "grid_template_columns": null,
       "grid_template_rows": null,
       "height": null,
       "justify_content": null,
       "justify_items": null,
       "left": null,
       "margin": null,
       "max_height": null,
       "max_width": null,
       "min_height": null,
       "min_width": null,
       "object_fit": null,
       "object_position": null,
       "order": null,
       "overflow": null,
       "overflow_x": null,
       "overflow_y": null,
       "padding": null,
       "right": null,
       "top": null,
       "visibility": null,
       "width": null
      }
     },
     "63a50f3a3bd04d889c44b49376ab92a2": {
      "model_module": "@jupyter-widgets/controls",
      "model_module_version": "1.5.0",
      "model_name": "FloatProgressModel",
      "state": {
       "_dom_classes": [],
       "_model_module": "@jupyter-widgets/controls",
       "_model_module_version": "1.5.0",
       "_model_name": "FloatProgressModel",
       "_view_count": null,
       "_view_module": "@jupyter-widgets/controls",
       "_view_module_version": "1.5.0",
       "_view_name": "ProgressView",
       "bar_style": "success",
       "description": "",
       "description_tooltip": null,
       "layout": "IPY_MODEL_b6295de32d3c40018fa242f55d4ce98b",
       "max": 29.0,
       "min": 0.0,
       "orientation": "horizontal",
       "style": "IPY_MODEL_ea025a9ee6ef44d7a5210646aaab8c4c",
       "value": 29.0
      }
     },
     "6b53660d0c7c463ab590927d5e445fee": {
      "model_module": "@jupyter-widgets/base",
      "model_module_version": "1.2.0",
      "model_name": "LayoutModel",
      "state": {
       "_model_module": "@jupyter-widgets/base",
       "_model_module_version": "1.2.0",
       "_model_name": "LayoutModel",
       "_view_count": null,
       "_view_module": "@jupyter-widgets/base",
       "_view_module_version": "1.2.0",
       "_view_name": "LayoutView",
       "align_content": null,
       "align_items": null,
       "align_self": null,
       "border": null,
       "bottom": null,
       "display": null,
       "flex": null,
       "flex_flow": null,
       "grid_area": null,
       "grid_auto_columns": null,
       "grid_auto_flow": null,
       "grid_auto_rows": null,
       "grid_column": null,
       "grid_gap": null,
       "grid_row": null,
       "grid_template_areas": null,
       "grid_template_columns": null,
       "grid_template_rows": null,
       "height": null,
       "justify_content": null,
       "justify_items": null,
       "left": null,
       "margin": null,
       "max_height": null,
       "max_width": null,
       "min_height": null,
       "min_width": null,
       "object_fit": null,
       "object_position": null,
       "order": null,
       "overflow": null,
       "overflow_x": null,
       "overflow_y": null,
       "padding": null,
       "right": null,
       "top": null,
       "visibility": null,
       "width": null
      }
     },
     "87ef19236c074d779d8f6afa5be236d6": {
      "model_module": "@jupyter-widgets/controls",
      "model_module_version": "1.5.0",
      "model_name": "HTMLModel",
      "state": {
       "_dom_classes": [],
       "_model_module": "@jupyter-widgets/controls",
       "_model_module_version": "1.5.0",
       "_model_name": "HTMLModel",
       "_view_count": null,
       "_view_module": "@jupyter-widgets/controls",
       "_view_module_version": "1.5.0",
       "_view_name": "HTMLView",
       "description": "",
       "description_tooltip": null,
       "layout": "IPY_MODEL_5de55ba1b2434568bdd16e2d2b91ce6c",
       "placeholder": "​",
       "style": "IPY_MODEL_4aa9e5207b5c4f03b919bb63d81a0096",
       "value": "Downloading: 100%"
      }
     },
     "8866394c6b944d3091141c062c4d890d": {
      "model_module": "@jupyter-widgets/base",
      "model_module_version": "1.2.0",
      "model_name": "LayoutModel",
      "state": {
       "_model_module": "@jupyter-widgets/base",
       "_model_module_version": "1.2.0",
       "_model_name": "LayoutModel",
       "_view_count": null,
       "_view_module": "@jupyter-widgets/base",
       "_view_module_version": "1.2.0",
       "_view_name": "LayoutView",
       "align_content": null,
       "align_items": null,
       "align_self": null,
       "border": null,
       "bottom": null,
       "display": null,
       "flex": null,
       "flex_flow": null,
       "grid_area": null,
       "grid_auto_columns": null,
       "grid_auto_flow": null,
       "grid_auto_rows": null,
       "grid_column": null,
       "grid_gap": null,
       "grid_row": null,
       "grid_template_areas": null,
       "grid_template_columns": null,
       "grid_template_rows": null,
       "height": null,
       "justify_content": null,
       "justify_items": null,
       "left": null,
       "margin": null,
       "max_height": null,
       "max_width": null,
       "min_height": null,
       "min_width": null,
       "object_fit": null,
       "object_position": null,
       "order": null,
       "overflow": null,
       "overflow_x": null,
       "overflow_y": null,
       "padding": null,
       "right": null,
       "top": null,
       "visibility": null,
       "width": null
      }
     },
     "89be81908e2747b690d834bd3fb32451": {
      "model_module": "@jupyter-widgets/base",
      "model_module_version": "1.2.0",
      "model_name": "LayoutModel",
      "state": {
       "_model_module": "@jupyter-widgets/base",
       "_model_module_version": "1.2.0",
       "_model_name": "LayoutModel",
       "_view_count": null,
       "_view_module": "@jupyter-widgets/base",
       "_view_module_version": "1.2.0",
       "_view_name": "LayoutView",
       "align_content": null,
       "align_items": null,
       "align_self": null,
       "border": null,
       "bottom": null,
       "display": null,
       "flex": null,
       "flex_flow": null,
       "grid_area": null,
       "grid_auto_columns": null,
       "grid_auto_flow": null,
       "grid_auto_rows": null,
       "grid_column": null,
       "grid_gap": null,
       "grid_row": null,
       "grid_template_areas": null,
       "grid_template_columns": null,
       "grid_template_rows": null,
       "height": null,
       "justify_content": null,
       "justify_items": null,
       "left": null,
       "margin": null,
       "max_height": null,
       "max_width": null,
       "min_height": null,
       "min_width": null,
       "object_fit": null,
       "object_position": null,
       "order": null,
       "overflow": null,
       "overflow_x": null,
       "overflow_y": null,
       "padding": null,
       "right": null,
       "top": null,
       "visibility": null,
       "width": null
      }
     },
     "9af31135097046d6a4591e8f28f34a39": {
      "model_module": "@jupyter-widgets/base",
      "model_module_version": "1.2.0",
      "model_name": "LayoutModel",
      "state": {
       "_model_module": "@jupyter-widgets/base",
       "_model_module_version": "1.2.0",
       "_model_name": "LayoutModel",
       "_view_count": null,
       "_view_module": "@jupyter-widgets/base",
       "_view_module_version": "1.2.0",
       "_view_name": "LayoutView",
       "align_content": null,
       "align_items": null,
       "align_self": null,
       "border": null,
       "bottom": null,
       "display": null,
       "flex": null,
       "flex_flow": null,
       "grid_area": null,
       "grid_auto_columns": null,
       "grid_auto_flow": null,
       "grid_auto_rows": null,
       "grid_column": null,
       "grid_gap": null,
       "grid_row": null,
       "grid_template_areas": null,
       "grid_template_columns": null,
       "grid_template_rows": null,
       "height": null,
       "justify_content": null,
       "justify_items": null,
       "left": null,
       "margin": null,
       "max_height": null,
       "max_width": null,
       "min_height": null,
       "min_width": null,
       "object_fit": null,
       "object_position": null,
       "order": null,
       "overflow": null,
       "overflow_x": null,
       "overflow_y": null,
       "padding": null,
       "right": null,
       "top": null,
       "visibility": null,
       "width": null
      }
     },
     "9f04b1ef430a497cae0c153e173c8e94": {
      "model_module": "@jupyter-widgets/base",
      "model_module_version": "1.2.0",
      "model_name": "LayoutModel",
      "state": {
       "_model_module": "@jupyter-widgets/base",
       "_model_module_version": "1.2.0",
       "_model_name": "LayoutModel",
       "_view_count": null,
       "_view_module": "@jupyter-widgets/base",
       "_view_module_version": "1.2.0",
       "_view_name": "LayoutView",
       "align_content": null,
       "align_items": null,
       "align_self": null,
       "border": null,
       "bottom": null,
       "display": null,
       "flex": null,
       "flex_flow": null,
       "grid_area": null,
       "grid_auto_columns": null,
       "grid_auto_flow": null,
       "grid_auto_rows": null,
       "grid_column": null,
       "grid_gap": null,
       "grid_row": null,
       "grid_template_areas": null,
       "grid_template_columns": null,
       "grid_template_rows": null,
       "height": null,
       "justify_content": null,
       "justify_items": null,
       "left": null,
       "margin": null,
       "max_height": null,
       "max_width": null,
       "min_height": null,
       "min_width": null,
       "object_fit": null,
       "object_position": null,
       "order": null,
       "overflow": null,
       "overflow_x": null,
       "overflow_y": null,
       "padding": null,
       "right": null,
       "top": null,
       "visibility": null,
       "width": null
      }
     },
     "a054fcb5fec34d73b6a73b516f9d18a0": {
      "model_module": "@jupyter-widgets/base",
      "model_module_version": "1.2.0",
      "model_name": "LayoutModel",
      "state": {
       "_model_module": "@jupyter-widgets/base",
       "_model_module_version": "1.2.0",
       "_model_name": "LayoutModel",
       "_view_count": null,
       "_view_module": "@jupyter-widgets/base",
       "_view_module_version": "1.2.0",
       "_view_name": "LayoutView",
       "align_content": null,
       "align_items": null,
       "align_self": null,
       "border": null,
       "bottom": null,
       "display": null,
       "flex": null,
       "flex_flow": null,
       "grid_area": null,
       "grid_auto_columns": null,
       "grid_auto_flow": null,
       "grid_auto_rows": null,
       "grid_column": null,
       "grid_gap": null,
       "grid_row": null,
       "grid_template_areas": null,
       "grid_template_columns": null,
       "grid_template_rows": null,
       "height": null,
       "justify_content": null,
       "justify_items": null,
       "left": null,
       "margin": null,
       "max_height": null,
       "max_width": null,
       "min_height": null,
       "min_width": null,
       "object_fit": null,
       "object_position": null,
       "order": null,
       "overflow": null,
       "overflow_x": null,
       "overflow_y": null,
       "padding": null,
       "right": null,
       "top": null,
       "visibility": null,
       "width": null
      }
     },
     "ae021c636775421ca0a1c3f76cba74d8": {
      "model_module": "@jupyter-widgets/controls",
      "model_module_version": "1.5.0",
      "model_name": "DescriptionStyleModel",
      "state": {
       "_model_module": "@jupyter-widgets/controls",
       "_model_module_version": "1.5.0",
       "_model_name": "DescriptionStyleModel",
       "_view_count": null,
       "_view_module": "@jupyter-widgets/base",
       "_view_module_version": "1.2.0",
       "_view_name": "StyleView",
       "description_width": ""
      }
     },
     "aeef8dd31b2142fab8b4c795fc51b2cd": {
      "model_module": "@jupyter-widgets/base",
      "model_module_version": "1.2.0",
      "model_name": "LayoutModel",
      "state": {
       "_model_module": "@jupyter-widgets/base",
       "_model_module_version": "1.2.0",
       "_model_name": "LayoutModel",
       "_view_count": null,
       "_view_module": "@jupyter-widgets/base",
       "_view_module_version": "1.2.0",
       "_view_name": "LayoutView",
       "align_content": null,
       "align_items": null,
       "align_self": null,
       "border": null,
       "bottom": null,
       "display": null,
       "flex": null,
       "flex_flow": null,
       "grid_area": null,
       "grid_auto_columns": null,
       "grid_auto_flow": null,
       "grid_auto_rows": null,
       "grid_column": null,
       "grid_gap": null,
       "grid_row": null,
       "grid_template_areas": null,
       "grid_template_columns": null,
       "grid_template_rows": null,
       "height": null,
       "justify_content": null,
       "justify_items": null,
       "left": null,
       "margin": null,
       "max_height": null,
       "max_width": null,
       "min_height": null,
       "min_width": null,
       "object_fit": null,
       "object_position": null,
       "order": null,
       "overflow": null,
       "overflow_x": null,
       "overflow_y": null,
       "padding": null,
       "right": null,
       "top": null,
       "visibility": null,
       "width": null
      }
     },
     "af1c6af10817466988968b224ce2c581": {
      "model_module": "@jupyter-widgets/controls",
      "model_module_version": "1.5.0",
      "model_name": "HBoxModel",
      "state": {
       "_dom_classes": [],
       "_model_module": "@jupyter-widgets/controls",
       "_model_module_version": "1.5.0",
       "_model_name": "HBoxModel",
       "_view_count": null,
       "_view_module": "@jupyter-widgets/controls",
       "_view_module_version": "1.5.0",
       "_view_name": "HBoxView",
       "box_style": "",
       "children": [
        "IPY_MODEL_87ef19236c074d779d8f6afa5be236d6",
        "IPY_MODEL_63a50f3a3bd04d889c44b49376ab92a2",
        "IPY_MODEL_c282f9d23af34cd6a9a243a3cfecc9ec"
       ],
       "layout": "IPY_MODEL_6b53660d0c7c463ab590927d5e445fee"
      }
     },
     "b1bdc9d61f4d4765a04b36e2758d6fce": {
      "model_module": "@jupyter-widgets/controls",
      "model_module_version": "1.5.0",
      "model_name": "HTMLModel",
      "state": {
       "_dom_classes": [],
       "_model_module": "@jupyter-widgets/controls",
       "_model_module_version": "1.5.0",
       "_model_name": "HTMLModel",
       "_view_count": null,
       "_view_module": "@jupyter-widgets/controls",
       "_view_module_version": "1.5.0",
       "_view_name": "HTMLView",
       "description": "",
       "description_tooltip": null,
       "layout": "IPY_MODEL_d77a2a16c192403faad646bed6b173c7",
       "placeholder": "​",
       "style": "IPY_MODEL_ae021c636775421ca0a1c3f76cba74d8",
       "value": "Downloading: 100%"
      }
     },
     "b37f6dfa906f4d86be1020db00571e32": {
      "model_module": "@jupyter-widgets/controls",
      "model_module_version": "1.5.0",
      "model_name": "DescriptionStyleModel",
      "state": {
       "_model_module": "@jupyter-widgets/controls",
       "_model_module_version": "1.5.0",
       "_model_name": "DescriptionStyleModel",
       "_view_count": null,
       "_view_module": "@jupyter-widgets/base",
       "_view_module_version": "1.2.0",
       "_view_name": "StyleView",
       "description_width": ""
      }
     },
     "b6295de32d3c40018fa242f55d4ce98b": {
      "model_module": "@jupyter-widgets/base",
      "model_module_version": "1.2.0",
      "model_name": "LayoutModel",
      "state": {
       "_model_module": "@jupyter-widgets/base",
       "_model_module_version": "1.2.0",
       "_model_name": "LayoutModel",
       "_view_count": null,
       "_view_module": "@jupyter-widgets/base",
       "_view_module_version": "1.2.0",
       "_view_name": "LayoutView",
       "align_content": null,
       "align_items": null,
       "align_self": null,
       "border": null,
       "bottom": null,
       "display": null,
       "flex": null,
       "flex_flow": null,
       "grid_area": null,
       "grid_auto_columns": null,
       "grid_auto_flow": null,
       "grid_auto_rows": null,
       "grid_column": null,
       "grid_gap": null,
       "grid_row": null,
       "grid_template_areas": null,
       "grid_template_columns": null,
       "grid_template_rows": null,
       "height": null,
       "justify_content": null,
       "justify_items": null,
       "left": null,
       "margin": null,
       "max_height": null,
       "max_width": null,
       "min_height": null,
       "min_width": null,
       "object_fit": null,
       "object_position": null,
       "order": null,
       "overflow": null,
       "overflow_x": null,
       "overflow_y": null,
       "padding": null,
       "right": null,
       "top": null,
       "visibility": null,
       "width": null
      }
     },
     "b71e1be9165044d1940dc79e6487def8": {
      "model_module": "@jupyter-widgets/controls",
      "model_module_version": "1.5.0",
      "model_name": "FloatProgressModel",
      "state": {
       "_dom_classes": [],
       "_model_module": "@jupyter-widgets/controls",
       "_model_module_version": "1.5.0",
       "_model_name": "FloatProgressModel",
       "_view_count": null,
       "_view_module": "@jupyter-widgets/controls",
       "_view_module_version": "1.5.0",
       "_view_name": "ProgressView",
       "bar_style": "success",
       "description": "",
       "description_tooltip": null,
       "layout": "IPY_MODEL_1be6177a6ba340c586a2cf1256bbf676",
       "max": 435797.0,
       "min": 0.0,
       "orientation": "horizontal",
       "style": "IPY_MODEL_5209ae51d7054929ac79e020b0d36600",
       "value": 435797.0
      }
     },
     "b77197dffd7449578e0a19262b5518cb": {
      "model_module": "@jupyter-widgets/controls",
      "model_module_version": "1.5.0",
      "model_name": "HTMLModel",
      "state": {
       "_dom_classes": [],
       "_model_module": "@jupyter-widgets/controls",
       "_model_module_version": "1.5.0",
       "_model_name": "HTMLModel",
       "_view_count": null,
       "_view_module": "@jupyter-widgets/controls",
       "_view_module_version": "1.5.0",
       "_view_name": "HTMLView",
       "description": "",
       "description_tooltip": null,
       "layout": "IPY_MODEL_239362f4b6fc4560a5f8a75b55883aba",
       "placeholder": "​",
       "style": "IPY_MODEL_48309668d8fc4a3cb5a0265d6eb5d625",
       "value": " 426k/426k [00:00&lt;00:00, 2.97MB/s]"
      }
     },
     "b7a3be6cfa294244b944ae40c0e69a1b": {
      "model_module": "@jupyter-widgets/controls",
      "model_module_version": "1.5.0",
      "model_name": "ProgressStyleModel",
      "state": {
       "_model_module": "@jupyter-widgets/controls",
       "_model_module_version": "1.5.0",
       "_model_name": "ProgressStyleModel",
       "_view_count": null,
       "_view_module": "@jupyter-widgets/base",
       "_view_module_version": "1.2.0",
       "_view_name": "StyleView",
       "bar_color": null,
       "description_width": ""
      }
     },
     "baff3af91e1342baa9acecfb708c07a1": {
      "model_module": "@jupyter-widgets/controls",
      "model_module_version": "1.5.0",
      "model_name": "ProgressStyleModel",
      "state": {
       "_model_module": "@jupyter-widgets/controls",
       "_model_module_version": "1.5.0",
       "_model_name": "ProgressStyleModel",
       "_view_count": null,
       "_view_module": "@jupyter-widgets/base",
       "_view_module_version": "1.2.0",
       "_view_name": "StyleView",
       "bar_color": null,
       "description_width": ""
      }
     },
     "c282f9d23af34cd6a9a243a3cfecc9ec": {
      "model_module": "@jupyter-widgets/controls",
      "model_module_version": "1.5.0",
      "model_name": "HTMLModel",
      "state": {
       "_dom_classes": [],
       "_model_module": "@jupyter-widgets/controls",
       "_model_module_version": "1.5.0",
       "_model_name": "HTMLModel",
       "_view_count": null,
       "_view_module": "@jupyter-widgets/controls",
       "_view_module_version": "1.5.0",
       "_view_name": "HTMLView",
       "description": "",
       "description_tooltip": null,
       "layout": "IPY_MODEL_a054fcb5fec34d73b6a73b516f9d18a0",
       "placeholder": "​",
       "style": "IPY_MODEL_b37f6dfa906f4d86be1020db00571e32",
       "value": " 29.0/29.0 [00:00&lt;00:00, 956B/s]"
      }
     },
     "ca41fbc52554494cb687846a9b53a0ec": {
      "model_module": "@jupyter-widgets/controls",
      "model_module_version": "1.5.0",
      "model_name": "FloatProgressModel",
      "state": {
       "_dom_classes": [],
       "_model_module": "@jupyter-widgets/controls",
       "_model_module_version": "1.5.0",
       "_model_name": "FloatProgressModel",
       "_view_count": null,
       "_view_module": "@jupyter-widgets/controls",
       "_view_module_version": "1.5.0",
       "_view_name": "ProgressView",
       "bar_style": "success",
       "description": "",
       "description_tooltip": null,
       "layout": "IPY_MODEL_89be81908e2747b690d834bd3fb32451",
       "max": 435779157.0,
       "min": 0.0,
       "orientation": "horizontal",
       "style": "IPY_MODEL_525eb2b98ca843afb1ff2bd04cba4cae",
       "value": 435779157.0
      }
     },
     "cee62bec82574831a55953b695d30c1b": {
      "model_module": "@jupyter-widgets/controls",
      "model_module_version": "1.5.0",
      "model_name": "HTMLModel",
      "state": {
       "_dom_classes": [],
       "_model_module": "@jupyter-widgets/controls",
       "_model_module_version": "1.5.0",
       "_model_name": "HTMLModel",
       "_view_count": null,
       "_view_module": "@jupyter-widgets/controls",
       "_view_module_version": "1.5.0",
       "_view_name": "HTMLView",
       "description": "",
       "description_tooltip": null,
       "layout": "IPY_MODEL_aeef8dd31b2142fab8b4c795fc51b2cd",
       "placeholder": "​",
       "style": "IPY_MODEL_d642421ee7604b63acd5d8eb3fc9e7f5",
       "value": " 416M/416M [00:28&lt;00:00, 16.3MB/s]"
      }
     },
     "d642421ee7604b63acd5d8eb3fc9e7f5": {
      "model_module": "@jupyter-widgets/controls",
      "model_module_version": "1.5.0",
      "model_name": "DescriptionStyleModel",
      "state": {
       "_model_module": "@jupyter-widgets/controls",
       "_model_module_version": "1.5.0",
       "_model_name": "DescriptionStyleModel",
       "_view_count": null,
       "_view_module": "@jupyter-widgets/base",
       "_view_module_version": "1.2.0",
       "_view_name": "StyleView",
       "description_width": ""
      }
     },
     "d77a2a16c192403faad646bed6b173c7": {
      "model_module": "@jupyter-widgets/base",
      "model_module_version": "1.2.0",
      "model_name": "LayoutModel",
      "state": {
       "_model_module": "@jupyter-widgets/base",
       "_model_module_version": "1.2.0",
       "_model_name": "LayoutModel",
       "_view_count": null,
       "_view_module": "@jupyter-widgets/base",
       "_view_module_version": "1.2.0",
       "_view_name": "LayoutView",
       "align_content": null,
       "align_items": null,
       "align_self": null,
       "border": null,
       "bottom": null,
       "display": null,
       "flex": null,
       "flex_flow": null,
       "grid_area": null,
       "grid_auto_columns": null,
       "grid_auto_flow": null,
       "grid_auto_rows": null,
       "grid_column": null,
       "grid_gap": null,
       "grid_row": null,
       "grid_template_areas": null,
       "grid_template_columns": null,
       "grid_template_rows": null,
       "height": null,
       "justify_content": null,
       "justify_items": null,
       "left": null,
       "margin": null,
       "max_height": null,
       "max_width": null,
       "min_height": null,
       "min_width": null,
       "object_fit": null,
       "object_position": null,
       "order": null,
       "overflow": null,
       "overflow_x": null,
       "overflow_y": null,
       "padding": null,
       "right": null,
       "top": null,
       "visibility": null,
       "width": null
      }
     },
     "da3c533d4c264674bee4abb3e11809d1": {
      "model_module": "@jupyter-widgets/base",
      "model_module_version": "1.2.0",
      "model_name": "LayoutModel",
      "state": {
       "_model_module": "@jupyter-widgets/base",
       "_model_module_version": "1.2.0",
       "_model_name": "LayoutModel",
       "_view_count": null,
       "_view_module": "@jupyter-widgets/base",
       "_view_module_version": "1.2.0",
       "_view_name": "LayoutView",
       "align_content": null,
       "align_items": null,
       "align_self": null,
       "border": null,
       "bottom": null,
       "display": null,
       "flex": null,
       "flex_flow": null,
       "grid_area": null,
       "grid_auto_columns": null,
       "grid_auto_flow": null,
       "grid_auto_rows": null,
       "grid_column": null,
       "grid_gap": null,
       "grid_row": null,
       "grid_template_areas": null,
       "grid_template_columns": null,
       "grid_template_rows": null,
       "height": null,
       "justify_content": null,
       "justify_items": null,
       "left": null,
       "margin": null,
       "max_height": null,
       "max_width": null,
       "min_height": null,
       "min_width": null,
       "object_fit": null,
       "object_position": null,
       "order": null,
       "overflow": null,
       "overflow_x": null,
       "overflow_y": null,
       "padding": null,
       "right": null,
       "top": null,
       "visibility": null,
       "width": null
      }
     },
     "da9e306af600446e8da2631e8b681cdb": {
      "model_module": "@jupyter-widgets/controls",
      "model_module_version": "1.5.0",
      "model_name": "HTMLModel",
      "state": {
       "_dom_classes": [],
       "_model_module": "@jupyter-widgets/controls",
       "_model_module_version": "1.5.0",
       "_model_name": "HTMLModel",
       "_view_count": null,
       "_view_module": "@jupyter-widgets/controls",
       "_view_module_version": "1.5.0",
       "_view_name": "HTMLView",
       "description": "",
       "description_tooltip": null,
       "layout": "IPY_MODEL_1f20b85dbef7499c83386e718e15c1b2",
       "placeholder": "​",
       "style": "IPY_MODEL_3cbafcb4f9724ef59b2098a3f0a5baeb",
       "value": " 570/570 [00:00&lt;00:00, 19.3kB/s]"
      }
     },
     "e01e1e48c4634cb99868a4843444e1b4": {
      "model_module": "@jupyter-widgets/controls",
      "model_module_version": "1.5.0",
      "model_name": "HTMLModel",
      "state": {
       "_dom_classes": [],
       "_model_module": "@jupyter-widgets/controls",
       "_model_module_version": "1.5.0",
       "_model_name": "HTMLModel",
       "_view_count": null,
       "_view_module": "@jupyter-widgets/controls",
       "_view_module_version": "1.5.0",
       "_view_name": "HTMLView",
       "description": "",
       "description_tooltip": null,
       "layout": "IPY_MODEL_102928c2a88f4431b2a4095ae60eac67",
       "placeholder": "​",
       "style": "IPY_MODEL_12491f6db94745b590888f6bbafb1404",
       "value": " 208k/208k [00:00&lt;00:00, 2.26MB/s]"
      }
     },
     "e8c52b3434fb452a80c2141d42bfcc4d": {
      "model_module": "@jupyter-widgets/base",
      "model_module_version": "1.2.0",
      "model_name": "LayoutModel",
      "state": {
       "_model_module": "@jupyter-widgets/base",
       "_model_module_version": "1.2.0",
       "_model_name": "LayoutModel",
       "_view_count": null,
       "_view_module": "@jupyter-widgets/base",
       "_view_module_version": "1.2.0",
       "_view_name": "LayoutView",
       "align_content": null,
       "align_items": null,
       "align_self": null,
       "border": null,
       "bottom": null,
       "display": null,
       "flex": null,
       "flex_flow": null,
       "grid_area": null,
       "grid_auto_columns": null,
       "grid_auto_flow": null,
       "grid_auto_rows": null,
       "grid_column": null,
       "grid_gap": null,
       "grid_row": null,
       "grid_template_areas": null,
       "grid_template_columns": null,
       "grid_template_rows": null,
       "height": null,
       "justify_content": null,
       "justify_items": null,
       "left": null,
       "margin": null,
       "max_height": null,
       "max_width": null,
       "min_height": null,
       "min_width": null,
       "object_fit": null,
       "object_position": null,
       "order": null,
       "overflow": null,
       "overflow_x": null,
       "overflow_y": null,
       "padding": null,
       "right": null,
       "top": null,
       "visibility": null,
       "width": null
      }
     },
     "ea025a9ee6ef44d7a5210646aaab8c4c": {
      "model_module": "@jupyter-widgets/controls",
      "model_module_version": "1.5.0",
      "model_name": "ProgressStyleModel",
      "state": {
       "_model_module": "@jupyter-widgets/controls",
       "_model_module_version": "1.5.0",
       "_model_name": "ProgressStyleModel",
       "_view_count": null,
       "_view_module": "@jupyter-widgets/base",
       "_view_module_version": "1.2.0",
       "_view_name": "StyleView",
       "bar_color": null,
       "description_width": ""
      }
     },
     "ed3d5e6bd91a4a08b001cce1b31becc7": {
      "model_module": "@jupyter-widgets/base",
      "model_module_version": "1.2.0",
      "model_name": "LayoutModel",
      "state": {
       "_model_module": "@jupyter-widgets/base",
       "_model_module_version": "1.2.0",
       "_model_name": "LayoutModel",
       "_view_count": null,
       "_view_module": "@jupyter-widgets/base",
       "_view_module_version": "1.2.0",
       "_view_name": "LayoutView",
       "align_content": null,
       "align_items": null,
       "align_self": null,
       "border": null,
       "bottom": null,
       "display": null,
       "flex": null,
       "flex_flow": null,
       "grid_area": null,
       "grid_auto_columns": null,
       "grid_auto_flow": null,
       "grid_auto_rows": null,
       "grid_column": null,
       "grid_gap": null,
       "grid_row": null,
       "grid_template_areas": null,
       "grid_template_columns": null,
       "grid_template_rows": null,
       "height": null,
       "justify_content": null,
       "justify_items": null,
       "left": null,
       "margin": null,
       "max_height": null,
       "max_width": null,
       "min_height": null,
       "min_width": null,
       "object_fit": null,
       "object_position": null,
       "order": null,
       "overflow": null,
       "overflow_x": null,
       "overflow_y": null,
       "padding": null,
       "right": null,
       "top": null,
       "visibility": null,
       "width": null
      }
     },
     "ef547f0d43ee462cbf72e4a8f16afeea": {
      "model_module": "@jupyter-widgets/controls",
      "model_module_version": "1.5.0",
      "model_name": "HBoxModel",
      "state": {
       "_dom_classes": [],
       "_model_module": "@jupyter-widgets/controls",
       "_model_module_version": "1.5.0",
       "_model_name": "HBoxModel",
       "_view_count": null,
       "_view_module": "@jupyter-widgets/controls",
       "_view_module_version": "1.5.0",
       "_view_name": "HBoxView",
       "box_style": "",
       "children": [
        "IPY_MODEL_58c4239e46de46828f6470370d908ce8",
        "IPY_MODEL_4685b0c7d7f748178255f15b5402c0d2",
        "IPY_MODEL_e01e1e48c4634cb99868a4843444e1b4"
       ],
       "layout": "IPY_MODEL_8866394c6b944d3091141c062c4d890d"
      }
     },
     "f195030ba5044a598ce042d829062035": {
      "model_module": "@jupyter-widgets/controls",
      "model_module_version": "1.5.0",
      "model_name": "DescriptionStyleModel",
      "state": {
       "_model_module": "@jupyter-widgets/controls",
       "_model_module_version": "1.5.0",
       "_model_name": "DescriptionStyleModel",
       "_view_count": null,
       "_view_module": "@jupyter-widgets/base",
       "_view_module_version": "1.2.0",
       "_view_name": "StyleView",
       "description_width": ""
      }
     },
     "f827863ab10a4a87a5db421110675dfa": {
      "model_module": "@jupyter-widgets/controls",
      "model_module_version": "1.5.0",
      "model_name": "HBoxModel",
      "state": {
       "_dom_classes": [],
       "_model_module": "@jupyter-widgets/controls",
       "_model_module_version": "1.5.0",
       "_model_name": "HBoxModel",
       "_view_count": null,
       "_view_module": "@jupyter-widgets/controls",
       "_view_module_version": "1.5.0",
       "_view_name": "HBoxView",
       "box_style": "",
       "children": [
        "IPY_MODEL_b1bdc9d61f4d4765a04b36e2758d6fce",
        "IPY_MODEL_b71e1be9165044d1940dc79e6487def8",
        "IPY_MODEL_b77197dffd7449578e0a19262b5518cb"
       ],
       "layout": "IPY_MODEL_ed3d5e6bd91a4a08b001cce1b31becc7"
      }
     }
    },
    "version_major": 2,
    "version_minor": 0
   }
  }
 },
 "nbformat": 4,
 "nbformat_minor": 5
}
